{
 "cells": [
  {
   "cell_type": "markdown",
   "metadata": {},
   "source": [
    "# Numpy\n",
    "\n",
    "# 1. Criar arrays com Numpy"
   ]
  },
  {
   "cell_type": "code",
   "execution_count": 5,
   "metadata": {},
   "outputs": [],
   "source": [
    "import numpy as np\n",
    "\n",
    "# Criar um array a partir de uma coleção de dados\n",
    "\n",
    "lista = [1,2,3,4,5,-129]\n",
    "\n",
    "array_num = np.array(lista,dtype=np.int16) # Opcional, colocação de tipo de numeração do array"
   ]
  },
  {
   "cell_type": "code",
   "execution_count": 6,
   "metadata": {},
   "outputs": [],
   "source": [
    "matriz = [1,2,3,4],\\\n",
    "        [5,6,7,8],\\\n",
    "        [9,10,11,12]\n",
    "\n",
    "array_matriz = np.array(matriz)"
   ]
  },
  {
   "cell_type": "code",
   "execution_count": 7,
   "metadata": {},
   "outputs": [
    {
     "data": {
      "text/plain": [
       "12"
      ]
     },
     "execution_count": 7,
     "metadata": {},
     "output_type": "execute_result"
    }
   ],
   "source": [
    "array_matriz.max() # Elemento de maior valor do array"
   ]
  },
  {
   "cell_type": "code",
   "execution_count": 8,
   "metadata": {},
   "outputs": [
    {
     "data": {
      "text/plain": [
       "0     4\n",
       "1     8\n",
       "2    12\n",
       "dtype: int64"
      ]
     },
     "execution_count": 8,
     "metadata": {},
     "output_type": "execute_result"
    }
   ],
   "source": [
    "import pandas as pd\n",
    "\n",
    "df = pd.DataFrame([[1,2,3,4],\n",
    "            [5,6,7,8],\n",
    "            [9,10,11,12]])\n",
    "\n",
    "df.max(1)"
   ]
  },
  {
   "cell_type": "code",
   "execution_count": 13,
   "metadata": {},
   "outputs": [
    {
     "ename": "NameError",
     "evalue": "name 'array_matriz' is not defined",
     "output_type": "error",
     "traceback": [
      "\u001b[0;31m---------------------------------------------------------------------------\u001b[0m",
      "\u001b[0;31mNameError\u001b[0m                                 Traceback (most recent call last)",
      "Cell \u001b[0;32mIn[13], line 1\u001b[0m\n\u001b[0;32m----> 1\u001b[0m \u001b[43marray_matriz\u001b[49m\u001b[38;5;241m.\u001b[39mshape \u001b[38;5;66;03m# Dimensão da matriz\u001b[39;00m\n",
      "\u001b[0;31mNameError\u001b[0m: name 'array_matriz' is not defined"
     ]
    }
   ],
   "source": [
    "array_matriz.shape # Dimensão da matriz"
   ]
  },
  {
   "cell_type": "code",
   "execution_count": 10,
   "metadata": {},
   "outputs": [
    {
     "data": {
      "text/plain": [
       "tuple"
      ]
     },
     "execution_count": 10,
     "metadata": {},
     "output_type": "execute_result"
    }
   ],
   "source": [
    "type(array_matriz.shape)"
   ]
  },
  {
   "cell_type": "code",
   "execution_count": 11,
   "metadata": {},
   "outputs": [
    {
     "data": {
      "text/plain": [
       "8"
      ]
     },
     "execution_count": 11,
     "metadata": {},
     "output_type": "execute_result"
    }
   ],
   "source": [
    "array_matriz[1][3] # Aceder aos elementos por indexação. Igual às listas, tuplos,..."
   ]
  },
  {
   "cell_type": "code",
   "execution_count": 34,
   "metadata": {},
   "outputs": [],
   "source": [
    "## Informações sobre o array\n",
    "\n",
    "array_matriz.max() # Devolve o numero mais alto do array\n",
    "array_matriz.min() # Devolve o numero mais baixo do array\n",
    "array_matriz.mean()  # Devolve a média do array\n",
    "array_matriz.std() # Devolve o desvio padrão do array\n",
    "array_matriz.diagonal() # Devolve a diagonal da matriz, a começar no indice 0\n",
    "conv_arrayToList = array_matriz.tolist() # Converter array para lista\n",
    "array_matriz.transpose() # Transposta - Linhas passam para colunas e colunas para linhas\n",
    "array_3d = array_matriz.reshape(4,3,1)\n",
    "\n",
    "# array_3d = np.ones((4,3,1))"
   ]
  },
  {
   "cell_type": "markdown",
   "metadata": {},
   "source": [
    "## Função Linspace para criação de arrays"
   ]
  },
  {
   "cell_type": "code",
   "execution_count": 12,
   "metadata": {},
   "outputs": [
    {
     "ename": "NameError",
     "evalue": "name 'np' is not defined",
     "output_type": "error",
     "traceback": [
      "\u001b[0;31m---------------------------------------------------------------------------\u001b[0m",
      "\u001b[0;31mNameError\u001b[0m                                 Traceback (most recent call last)",
      "Cell \u001b[0;32mIn[12], line 1\u001b[0m\n\u001b[0;32m----> 1\u001b[0m array_lin \u001b[38;5;241m=\u001b[39m \u001b[43mnp\u001b[49m\u001b[38;5;241m.\u001b[39mlinspace(\u001b[38;5;241m0\u001b[39m,\u001b[38;5;241m20\u001b[39m,\u001b[38;5;241m100\u001b[39m)\n",
      "\u001b[0;31mNameError\u001b[0m: name 'np' is not defined"
     ]
    }
   ],
   "source": [
    "array_lin = np.linspace(0,20,100)"
   ]
  },
  {
   "cell_type": "markdown",
   "metadata": {},
   "source": [
    "## Outras funções Numpy"
   ]
  },
  {
   "cell_type": "code",
   "execution_count": 42,
   "metadata": {},
   "outputs": [],
   "source": [
    "array_zeros = np.zeros((5,3), dtype=np.int8) # -128 até 127. Tipo de dado opcional. Criar um array preenchico com numero 0\n",
    "\n",
    "array_ones = np.ones((5,3), dtype=np.int16) # Criar um array preenchido com o numero 1\n",
    "\n",
    "array_eye = np.eye(3, dtype=np.int8) # Criar uma matriz identidade\n",
    "\n"
   ]
  },
  {
   "cell_type": "markdown",
   "metadata": {},
   "source": [
    "## 1.1. Função random - Numeros aleatórios"
   ]
  },
  {
   "cell_type": "code",
   "execution_count": 48,
   "metadata": {},
   "outputs": [
    {
     "data": {
      "text/plain": [
       "37"
      ]
     },
     "execution_count": 48,
     "metadata": {},
     "output_type": "execute_result"
    }
   ],
   "source": [
    "import numpy as np\n",
    "\n",
    "np.random.randint(0,100) # Gerar numeros aleatórios no intervalo entre 0 e 99"
   ]
  },
  {
   "cell_type": "code",
   "execution_count": 50,
   "metadata": {},
   "outputs": [
    {
     "data": {
      "text/plain": [
       "array([43, 12, 29,  8, 45])"
      ]
     },
     "execution_count": 50,
     "metadata": {},
     "output_type": "execute_result"
    }
   ],
   "source": [
    "np.random.randint(1,51,5) # Gerar um array com 5 numeros aleatórios de 1 a 50"
   ]
  },
  {
   "cell_type": "code",
   "execution_count": 87,
   "metadata": {},
   "outputs": [
    {
     "data": {
      "text/plain": [
       "array([1, 1])"
      ]
     },
     "execution_count": 87,
     "metadata": {},
     "output_type": "execute_result"
    }
   ],
   "source": [
    "np.random.randint(1,13,2) # Gerar um array com 2 numeros aleatórios de 1 a 12"
   ]
  },
  {
   "cell_type": "code",
   "execution_count": 102,
   "metadata": {},
   "outputs": [
    {
     "name": "stdout",
     "output_type": "stream",
     "text": [
      "chave não válida:[2 2]\n"
     ]
    }
   ],
   "source": [
    "chave = np.random.randint(1,13,2)\n",
    "\n",
    "if len(set(chave)) > 1:\n",
    "    print(f'chave válida:{chave}')\n",
    "else:\n",
    "    print(f'chave não válida:{chave}')"
   ]
  },
  {
   "cell_type": "code",
   "execution_count": 111,
   "metadata": {},
   "outputs": [
    {
     "data": {
      "text/plain": [
       "[30, 12, 17, 28, 8]"
      ]
     },
     "execution_count": 111,
     "metadata": {},
     "output_type": "execute_result"
    }
   ],
   "source": [
    "import random\n",
    "\n",
    "random.sample(range(1,51),k = 5) # Usar a função random para gerar numeros aletórios unicos de 1 a 50"
   ]
  },
  {
   "cell_type": "markdown",
   "metadata": {},
   "source": [
    "## 1.2. Função Linspace"
   ]
  },
  {
   "cell_type": "code",
   "execution_count": 112,
   "metadata": {},
   "outputs": [],
   "source": [
    "arr_lin = np.linspace(0,2,200)"
   ]
  },
  {
   "cell_type": "code",
   "execution_count": 114,
   "metadata": {},
   "outputs": [
    {
     "data": {
      "text/plain": [
       "array([0.00000000e+00, 4.08121620e-02, 1.63248648e-01, 3.67309458e-01,\n",
       "       6.52994592e-01, 1.02030405e+00, 1.46923783e+00, 1.99979594e+00,\n",
       "       2.61197837e+00, 3.30578512e+00, 4.08121620e+00, 4.93827160e+00,\n",
       "       5.87695133e+00, 6.89725538e+00, 7.99918376e+00, 9.18273646e+00,\n",
       "       1.04479135e+01, 1.17947148e+01, 1.32231405e+01, 1.47331905e+01,\n",
       "       1.63248648e+01, 1.79981635e+01, 1.97530864e+01, 2.15896337e+01,\n",
       "       2.35078053e+01, 2.55076013e+01, 2.75890215e+01, 2.97520661e+01,\n",
       "       3.19967350e+01, 3.43230283e+01, 3.67309458e+01, 3.92204877e+01,\n",
       "       4.17916539e+01, 4.44444444e+01, 4.71788593e+01, 4.99948985e+01,\n",
       "       5.28925620e+01, 5.58718498e+01, 5.89327620e+01, 6.20752984e+01,\n",
       "       6.52994592e+01, 6.86052444e+01, 7.19926538e+01, 7.54616876e+01,\n",
       "       7.90123457e+01, 8.26446281e+01, 8.63585348e+01, 9.01540659e+01,\n",
       "       9.40312213e+01, 9.79900010e+01, 1.02030405e+02, 1.06152433e+02,\n",
       "       1.10356086e+02, 1.14641363e+02, 1.19008264e+02, 1.23456790e+02,\n",
       "       1.27986940e+02, 1.32598714e+02, 1.37292113e+02, 1.42067136e+02,\n",
       "       1.46923783e+02, 1.51862055e+02, 1.56881951e+02, 1.61983471e+02,\n",
       "       1.67166616e+02, 1.72431385e+02, 1.77777778e+02, 1.83205795e+02,\n",
       "       1.88715437e+02, 1.94306703e+02, 1.99979594e+02, 2.05734109e+02,\n",
       "       2.11570248e+02, 2.17488011e+02, 2.23487399e+02, 2.29568411e+02,\n",
       "       2.35731048e+02, 2.41975309e+02, 2.48301194e+02, 2.54708703e+02,\n",
       "       2.61197837e+02, 2.67768595e+02, 2.74420977e+02, 2.81154984e+02,\n",
       "       2.87970615e+02, 2.94867871e+02, 3.01846750e+02, 3.08907254e+02,\n",
       "       3.16049383e+02, 3.23273135e+02, 3.30578512e+02, 3.37965514e+02,\n",
       "       3.45434139e+02, 3.52984389e+02, 3.60616264e+02, 3.68329762e+02,\n",
       "       3.76124885e+02, 3.84001632e+02, 3.91960004e+02, 4.00000000e+02])"
      ]
     },
     "execution_count": 114,
     "metadata": {},
     "output_type": "execute_result"
    }
   ],
   "source": [
    "array_lin * array_lin"
   ]
  },
  {
   "cell_type": "markdown",
   "metadata": {},
   "source": [
    "# 2. Matplotlib\n",
    "# 2.1. Desenhar gráficos com a função linpace"
   ]
  },
  {
   "cell_type": "code",
   "execution_count": 14,
   "metadata": {},
   "outputs": [
    {
     "ename": "ModuleNotFoundError",
     "evalue": "No module named 'numpy'",
     "output_type": "error",
     "traceback": [
      "\u001b[0;31m---------------------------------------------------------------------------\u001b[0m",
      "\u001b[0;31mModuleNotFoundError\u001b[0m                       Traceback (most recent call last)",
      "Cell \u001b[0;32mIn[14], line 1\u001b[0m\n\u001b[0;32m----> 1\u001b[0m \u001b[38;5;28;01mimport\u001b[39;00m\u001b[38;5;250m \u001b[39m\u001b[38;5;21;01mnumpy\u001b[39;00m\u001b[38;5;250m \u001b[39m\u001b[38;5;28;01mas\u001b[39;00m\u001b[38;5;250m \u001b[39m\u001b[38;5;21;01mnp\u001b[39;00m\n\u001b[1;32m      2\u001b[0m \u001b[38;5;28;01mimport\u001b[39;00m\u001b[38;5;250m \u001b[39m\u001b[38;5;21;01mmatplotlib\u001b[39;00m\u001b[38;5;21;01m.\u001b[39;00m\u001b[38;5;21;01mpyplot\u001b[39;00m\u001b[38;5;250m \u001b[39m\u001b[38;5;28;01mas\u001b[39;00m\u001b[38;5;250m \u001b[39m\u001b[38;5;21;01mplt\u001b[39;00m \u001b[38;5;66;03m# Importar módulo especifico do matplotlib\u001b[39;00m\n\u001b[1;32m      4\u001b[0m array_user \u001b[38;5;241m=\u001b[39m np\u001b[38;5;241m.\u001b[39mlinspace(\u001b[38;5;241m0\u001b[39m,\u001b[38;5;241m5\u001b[39m,\u001b[38;5;241m100\u001b[39m)\n",
      "\u001b[0;31mModuleNotFoundError\u001b[0m: No module named 'numpy'"
     ]
    }
   ],
   "source": [
    "import numpy as np\n",
    "import matplotlib.pyplot as plt # Importar módulo especifico do matplotlib\n",
    "\n",
    "array_user = np.linspace(0,5,100)\n",
    "\n",
    "array_user_2 = np.linspace(0,20,100)\n",
    "\n",
    "# array_user -> eixo x\n",
    "# array_user -> eixo y\n",
    "\n",
    "plt.plot(array_user,array_user_2, label = 'linear') # Espeficação eixo x, especificação eixo y, Legenda gráfico\n",
    "plt.xlabel('Eixo X') # Etiqueta Eixo X\n",
    "plt.ylabel('Eixo Y') # Etiqueta Eixo Y\n",
    "plt.title('Gráfico simples') # Titulo do Gráfico\n",
    "plt.legend() # Mostrar a legenda do gráfico\n",
    "plt.savefig('exp.png') # Guardar a imagem na mesma pasta do ficheiro Python\n",
    "plt.show() # Mostra o gráfico no visualizador\n"
   ]
  },
  {
   "cell_type": "markdown",
   "metadata": {},
   "source": [
    "## Gráfico com multiplas características"
   ]
  },
  {
   "cell_type": "code",
   "execution_count": 17,
   "metadata": {},
   "outputs": [
    {
     "ename": "ModuleNotFoundError",
     "evalue": "No module named 'numpy'",
     "output_type": "error",
     "traceback": [
      "\u001b[0;31m---------------------------------------------------------------------------\u001b[0m",
      "\u001b[0;31mModuleNotFoundError\u001b[0m                       Traceback (most recent call last)",
      "Cell \u001b[0;32mIn[17], line 1\u001b[0m\n\u001b[0;32m----> 1\u001b[0m \u001b[38;5;28;01mimport\u001b[39;00m\u001b[38;5;250m \u001b[39m\u001b[38;5;21;01mnumpy\u001b[39;00m\u001b[38;5;250m \u001b[39m\u001b[38;5;28;01mas\u001b[39;00m\u001b[38;5;250m \u001b[39m\u001b[38;5;21;01mnp\u001b[39;00m\n\u001b[1;32m      2\u001b[0m \u001b[38;5;28;01mimport\u001b[39;00m\u001b[38;5;250m \u001b[39m\u001b[38;5;21;01mmatplotlib\u001b[39;00m\u001b[38;5;21;01m.\u001b[39;00m\u001b[38;5;21;01mpyplot\u001b[39;00m\u001b[38;5;250m \u001b[39m\u001b[38;5;28;01mas\u001b[39;00m\u001b[38;5;250m \u001b[39m\u001b[38;5;21;01mplt\u001b[39;00m \u001b[38;5;66;03m# Importar módulo especifico do matplotlib\u001b[39;00m\n\u001b[1;32m      4\u001b[0m array_user \u001b[38;5;241m=\u001b[39m np\u001b[38;5;241m.\u001b[39mlinspace(\u001b[38;5;241m0\u001b[39m,\u001b[38;5;241m2\u001b[39m,\u001b[38;5;241m1000\u001b[39m)\n",
      "\u001b[0;31mModuleNotFoundError\u001b[0m: No module named 'numpy'"
     ]
    }
   ],
   "source": [
    "import numpy as np\n",
    "import matplotlib.pyplot as plt # Importar módulo especifico do matplotlib\n",
    "\n",
    "array_user = np.linspace(0,2,1000)\n",
    "\n",
    "plt.plot(array_user, array_user)\n",
    "\n",
    "# Eixo X: array_user = [1 2 3 4 5 6...]\n",
    "# Eixo Y: array_user = [1 2 3 4 5 6...]\n",
    "plt.plot(array_user, array_user ** 2 * np.sin(array_user))\n",
    "plt.plot(array_user, array_user ** 3 * np.sin(array_user))\n",
    "\n",
    "plt.xlabel('Eixo X')\n",
    "plt.ylabel('Exo Y')\n",
    "plt.legend(['linear','quadrado','cubo'])\n",
    "plt.title('Gráfico multiplas caracteísticas')\n",
    "plt.show()"
   ]
  },
  {
   "cell_type": "markdown",
   "metadata": {},
   "source": [
    "## 2.2. Desenhar gráficos com listas e opções\n",
    "### 2.2.1. Gráfico com linha e marcadores"
   ]
  },
  {
   "cell_type": "code",
   "execution_count": 18,
   "metadata": {},
   "outputs": [
    {
     "ename": "ModuleNotFoundError",
     "evalue": "No module named 'numpy'",
     "output_type": "error",
     "traceback": [
      "\u001b[0;31m---------------------------------------------------------------------------\u001b[0m",
      "\u001b[0;31mModuleNotFoundError\u001b[0m                       Traceback (most recent call last)",
      "Cell \u001b[0;32mIn[18], line 1\u001b[0m\n\u001b[0;32m----> 1\u001b[0m \u001b[38;5;28;01mimport\u001b[39;00m\u001b[38;5;250m \u001b[39m\u001b[38;5;21;01mnumpy\u001b[39;00m\u001b[38;5;250m \u001b[39m\u001b[38;5;28;01mas\u001b[39;00m\u001b[38;5;250m \u001b[39m\u001b[38;5;21;01mnp\u001b[39;00m\n\u001b[1;32m      2\u001b[0m \u001b[38;5;28;01mimport\u001b[39;00m\u001b[38;5;250m \u001b[39m\u001b[38;5;21;01mmatplotlib\u001b[39;00m\u001b[38;5;21;01m.\u001b[39;00m\u001b[38;5;21;01mpyplot\u001b[39;00m\u001b[38;5;250m \u001b[39m\u001b[38;5;28;01mas\u001b[39;00m\u001b[38;5;250m \u001b[39m\u001b[38;5;21;01mplt\u001b[39;00m \u001b[38;5;66;03m# Importar módulo especifico do matplotlib\u001b[39;00m\n\u001b[1;32m      4\u001b[0m \u001b[38;5;66;03m#plt.plot([1,2,3,5,8,12], [2,5,9,20,55,76])\u001b[39;00m\n\u001b[1;32m      5\u001b[0m \u001b[38;5;66;03m#plt.plot(np.random.randint(0,100,20), np.random.randint(0,100,20))\u001b[39;00m\n",
      "\u001b[0;31mModuleNotFoundError\u001b[0m: No module named 'numpy'"
     ]
    }
   ],
   "source": [
    "import numpy as np\n",
    "import matplotlib.pyplot as plt # Importar módulo especifico do matplotlib\n",
    "\n",
    "#plt.plot([1,2,3,5,8,12], [2,5,9,20,55,76])\n",
    "#plt.plot(np.random.randint(0,100,20), np.random.randint(0,100,20))\n",
    "plt.plot(range(1,21), [np.pi * i ** 2 for i in range(1,21)], color = 'orange', marker = 'o', linestyle = 'dashed') # Ciclo for reduzido. Preenchimento de listas com iterações\n",
    "# 1,2,3,4,5,6,7,...\n",
    "# Opções para estilo de linha: 'solid', 'dashed', 'dashdot', 'dotted'\n",
    "plt.axis([0,30,0,2000]) # Definição do eixo dos X e Y [ponto1_x, ponto2_x, ponto1_y, ponto2_y]\n",
    "plt.show()"
   ]
  },
  {
   "cell_type": "markdown",
   "metadata": {},
   "source": [
    "### 2.2.2. Gráficos com linha e marcador por abreviação"
   ]
  },
  {
   "cell_type": "code",
   "execution_count": 19,
   "metadata": {},
   "outputs": [
    {
     "ename": "ModuleNotFoundError",
     "evalue": "No module named 'numpy'",
     "output_type": "error",
     "traceback": [
      "\u001b[0;31m---------------------------------------------------------------------------\u001b[0m",
      "\u001b[0;31mModuleNotFoundError\u001b[0m                       Traceback (most recent call last)",
      "Cell \u001b[0;32mIn[19], line 1\u001b[0m\n\u001b[0;32m----> 1\u001b[0m \u001b[38;5;28;01mimport\u001b[39;00m\u001b[38;5;250m \u001b[39m\u001b[38;5;21;01mnumpy\u001b[39;00m\u001b[38;5;250m \u001b[39m\u001b[38;5;28;01mas\u001b[39;00m\u001b[38;5;250m \u001b[39m\u001b[38;5;21;01mnp\u001b[39;00m\n\u001b[1;32m      2\u001b[0m \u001b[38;5;28;01mimport\u001b[39;00m\u001b[38;5;250m \u001b[39m\u001b[38;5;21;01mmatplotlib\u001b[39;00m\u001b[38;5;21;01m.\u001b[39;00m\u001b[38;5;21;01mpyplot\u001b[39;00m\u001b[38;5;250m \u001b[39m\u001b[38;5;28;01mas\u001b[39;00m\u001b[38;5;250m \u001b[39m\u001b[38;5;21;01mplt\u001b[39;00m \u001b[38;5;66;03m# Importar módulo especifico do matplotlib\u001b[39;00m\n\u001b[1;32m      4\u001b[0m \u001b[38;5;66;03m#plt.plot([1,2,3,5,8,12], [2,5,9,20,55,76])\u001b[39;00m\n\u001b[1;32m      5\u001b[0m \u001b[38;5;66;03m#plt.plot(np.random.randint(0,100,20), np.random.randint(0,100,20))\u001b[39;00m\n",
      "\u001b[0;31mModuleNotFoundError\u001b[0m: No module named 'numpy'"
     ]
    }
   ],
   "source": [
    "import numpy as np\n",
    "import matplotlib.pyplot as plt # Importar módulo especifico do matplotlib\n",
    "\n",
    "#plt.plot([1,2,3,5,8,12], [2,5,9,20,55,76])\n",
    "#plt.plot(np.random.randint(0,100,20), np.random.randint(0,100,20))\n",
    "plt.plot(range(1,21), [np.pi * i ** 2 for i in range(1,21)], 'b-.s') # Ciclo for reduzido. Preenchimento de listas com iterações\n",
    "# 1,2,3,4,5,6,7,...\n",
    "plt.axis([0,30,0,2000]) # Definição do eixo dos X e Y [ponto1_x, ponto2_x, ponto1_y, ponto2_y]\n",
    "plt.show()\n",
    "\n",
    "'''\n",
    "'b': blue\n",
    "'g': green\n",
    "'r': red\n",
    "'c': cyan\n",
    "'m': magenta\n",
    "'y': yellow\n",
    "'k': black\n",
    "'w': white\n",
    "\n",
    "'-': linha continua\n",
    "'--': tracejada\n",
    "'-.': tracejado e ponto\n",
    "':': linha com pontos\n",
    "\n",
    "'o': marcador em circulo\n",
    "'s': marcador em quadrado\n",
    "'^': marcador em triângulo\n",
    "'X': marcador em cruz\n",
    "'''\n"
   ]
  },
  {
   "cell_type": "markdown",
   "metadata": {},
   "source": [
    "### 2.2.3. Gráfico om multiplas linhas e marcadores por abreviaturas"
   ]
  },
  {
   "cell_type": "code",
   "execution_count": 20,
   "metadata": {},
   "outputs": [
    {
     "ename": "ModuleNotFoundError",
     "evalue": "No module named 'numpy'",
     "output_type": "error",
     "traceback": [
      "\u001b[0;31m---------------------------------------------------------------------------\u001b[0m",
      "\u001b[0;31mModuleNotFoundError\u001b[0m                       Traceback (most recent call last)",
      "Cell \u001b[0;32mIn[20], line 1\u001b[0m\n\u001b[0;32m----> 1\u001b[0m \u001b[38;5;28;01mimport\u001b[39;00m\u001b[38;5;250m \u001b[39m\u001b[38;5;21;01mnumpy\u001b[39;00m\u001b[38;5;250m \u001b[39m\u001b[38;5;28;01mas\u001b[39;00m\u001b[38;5;250m \u001b[39m\u001b[38;5;21;01mnp\u001b[39;00m\n\u001b[1;32m      2\u001b[0m \u001b[38;5;28;01mimport\u001b[39;00m\u001b[38;5;250m \u001b[39m\u001b[38;5;21;01mmatplotlib\u001b[39;00m\u001b[38;5;21;01m.\u001b[39;00m\u001b[38;5;21;01mpyplot\u001b[39;00m\u001b[38;5;250m \u001b[39m\u001b[38;5;28;01mas\u001b[39;00m\u001b[38;5;250m \u001b[39m\u001b[38;5;21;01mplt\u001b[39;00m \u001b[38;5;66;03m# Importar módulo especifico do matplotlib\u001b[39;00m\n\u001b[1;32m      4\u001b[0m array_user \u001b[38;5;241m=\u001b[39m np\u001b[38;5;241m.\u001b[39mlinspace(\u001b[38;5;241m0\u001b[39m,\u001b[38;5;241m2\u001b[39m,\u001b[38;5;241m25\u001b[39m)\n",
      "\u001b[0;31mModuleNotFoundError\u001b[0m: No module named 'numpy'"
     ]
    }
   ],
   "source": [
    "import numpy as np\n",
    "import matplotlib.pyplot as plt # Importar módulo especifico do matplotlib\n",
    "\n",
    "array_user = np.linspace(0,2,25)\n",
    "\n",
    "plt.plot(array_user, array_user, 'r--')\n",
    "\n",
    "# Eixo X: array_user = [1 2 3 4 5 6...]\n",
    "# Eixo Y: array_user = [1 2 3 4 5 6...]\n",
    "plt.plot(array_user, array_user ** 2 * np.sin(array_user), 'b-s')\n",
    "plt.plot(array_user, array_user ** 3 * np.sin(array_user), 'g:^')\n",
    "\n",
    "plt.xlabel('Eixo X')\n",
    "plt.ylabel('Exo Y')\n",
    "plt.legend(['linear','quadrado','cubo'])\n",
    "plt.title('Gráfico multiplas caracteísticas')\n",
    "plt.show()"
   ]
  },
  {
   "cell_type": "markdown",
   "metadata": {},
   "source": [
    "## 2.3. Gráfico Polar"
   ]
  },
  {
   "cell_type": "code",
   "execution_count": 23,
   "metadata": {},
   "outputs": [
    {
     "ename": "ModuleNotFoundError",
     "evalue": "No module named 'numpy'",
     "output_type": "error",
     "traceback": [
      "\u001b[0;31m---------------------------------------------------------------------------\u001b[0m",
      "\u001b[0;31mModuleNotFoundError\u001b[0m                       Traceback (most recent call last)",
      "Cell \u001b[0;32mIn[23], line 1\u001b[0m\n\u001b[0;32m----> 1\u001b[0m \u001b[38;5;28;01mimport\u001b[39;00m\u001b[38;5;250m \u001b[39m\u001b[38;5;21;01mnumpy\u001b[39;00m\u001b[38;5;250m \u001b[39m\u001b[38;5;28;01mas\u001b[39;00m\u001b[38;5;250m \u001b[39m\u001b[38;5;21;01mnp\u001b[39;00m\n\u001b[1;32m      2\u001b[0m \u001b[38;5;28;01mimport\u001b[39;00m\u001b[38;5;250m \u001b[39m\u001b[38;5;21;01mmatplotlib\u001b[39;00m\u001b[38;5;21;01m.\u001b[39;00m\u001b[38;5;21;01mpyplot\u001b[39;00m\u001b[38;5;250m \u001b[39m\u001b[38;5;28;01mas\u001b[39;00m\u001b[38;5;250m \u001b[39m\u001b[38;5;21;01mplt\u001b[39;00m \u001b[38;5;66;03m# Importar módulo especifico do matplotlib\u001b[39;00m\n\u001b[1;32m      4\u001b[0m raio \u001b[38;5;241m=\u001b[39m np\u001b[38;5;241m.\u001b[39marange(\u001b[38;5;241m0\u001b[39m,\u001b[38;5;241m2\u001b[39m,\u001b[38;5;241m0.01\u001b[39m) \u001b[38;5;66;03m# Criar array com arranjo de numeros de 0 a 2 com passo de 0.01\u001b[39;00m\n",
      "\u001b[0;31mModuleNotFoundError\u001b[0m: No module named 'numpy'"
     ]
    }
   ],
   "source": [
    "import numpy as np\n",
    "import matplotlib.pyplot as plt # Importar módulo especifico do matplotlib\n",
    "\n",
    "raio = np.arange(0,2,0.01) # Criar array com arranjo de numeros de 0 a 2 com passo de 0.01\n",
    "\n",
    "perimetro = 2 * np.pi * raio\n",
    "\n",
    "polar_plt = plt.subplot(111, projection = 'polar') # 1 - 1ª linha, 1 ª coluna, 1 ª Gráfico \n",
    "\n",
    "polar_plt.plot(perimetro,raio)\n",
    "polar_plt.set_rticks([0.5,1,1.5,2]) # Especificar o numero de eixos do gráfico\n",
    "polar_plt.set_title('Gráfico Polar')\n",
    "polar_plt.grid(True)\n",
    "plt.show()"
   ]
  },
  {
   "cell_type": "markdown",
   "metadata": {},
   "source": [
    "## 2.4. Vários gráficos no mesmo plot"
   ]
  },
  {
   "cell_type": "code",
   "execution_count": 78,
   "metadata": {},
   "outputs": [
    {
     "data": {
      "image/png": "[encoded data removed]",
      "text/plain": [
       "<Figure size 640x480 with 2 Axes>"
      ]
     },
     "metadata": {},
     "output_type": "display_data"
    }
   ],
   "source": [
    "import numpy as np\n",
    "import matplotlib.pyplot as plt # Importar módulo especifico do matplotlib\n",
    "\n",
    "array_user = np.linspace(0,2,25)\n",
    "\n",
    "plt.subplot(1,2,1) # 1 - Plot com 1 linha; 2 - Plot com 2 colunas; 1 - Plot da posição 1 a ser declarado\n",
    "\n",
    "plt.plot(array_user, array_user, 'r--')\n",
    "\n",
    "# Eixo X: array_user = [1 2 3 4 5 6...]\n",
    "# Eixo Y: array_user = [1 2 3 4 5 6...]\n",
    "plt.plot(array_user, array_user ** 2 * np.sin(array_user), 'b-s')\n",
    "plt.plot(array_user, array_user ** 3 * np.sin(array_user), 'g:^')\n",
    "\n",
    "plt.xlabel('Eixo X')\n",
    "plt.ylabel('Eixo Y')\n",
    "plt.legend(['linear','quadrado','cubo'])\n",
    "plt.title('Gráfico multiplas caracteísticas')\n",
    "\n",
    "plt.subplot(1,2,2) # 1- Plot com 1 linha; 2 - plot com2 colunas; 2- gráfico da posição 2 a ser declarado\n",
    "\n",
    "array_num = np.arange(0,20)\n",
    "\n",
    "arrayRnd = np.random.randint(0,100,20)\n",
    "\n",
    "plt.bar(array_num, arrayRnd, color = 'blue')\n",
    "plt.xlabel('Eixo X')\n",
    "plt.ylabel('Eixo Y')\n",
    "plt.title('Gráfico de barras')\n",
    "plt.legend(['numeros aleatórios'])\n",
    "plt.tight_layout() # Agrupar gráficos de forma a não se sobreporem\n",
    "plt.show()"
   ]
  },
  {
   "cell_type": "code",
   "execution_count": 1,
   "metadata": {},
   "outputs": [
    {
     "ename": "ModuleNotFoundError",
     "evalue": "No module named 'numpy'",
     "output_type": "error",
     "traceback": [
      "\u001b[0;31m---------------------------------------------------------------------------\u001b[0m",
      "\u001b[0;31mModuleNotFoundError\u001b[0m                       Traceback (most recent call last)",
      "Cell \u001b[0;32mIn[1], line 1\u001b[0m\n\u001b[0;32m----> 1\u001b[0m \u001b[38;5;28;01mimport\u001b[39;00m\u001b[38;5;250m \u001b[39m\u001b[38;5;21;01mnumpy\u001b[39;00m\u001b[38;5;250m \u001b[39m\u001b[38;5;28;01mas\u001b[39;00m\u001b[38;5;250m \u001b[39m\u001b[38;5;21;01mnp\u001b[39;00m\n\u001b[1;32m      2\u001b[0m \u001b[38;5;28;01mimport\u001b[39;00m\u001b[38;5;250m \u001b[39m\u001b[38;5;21;01mmatplotlib\u001b[39;00m\u001b[38;5;21;01m.\u001b[39;00m\u001b[38;5;21;01mpyplot\u001b[39;00m\u001b[38;5;250m \u001b[39m\u001b[38;5;28;01mas\u001b[39;00m\u001b[38;5;250m \u001b[39m\u001b[38;5;21;01mplt\u001b[39;00m \u001b[38;5;66;03m# Importar módulo especifico do matplotlib\u001b[39;00m\n\u001b[1;32m      4\u001b[0m array_user \u001b[38;5;241m=\u001b[39m np\u001b[38;5;241m.\u001b[39mlinspace(\u001b[38;5;241m0\u001b[39m,\u001b[38;5;241m2\u001b[39m,\u001b[38;5;241m25\u001b[39m)\n",
      "\u001b[0;31mModuleNotFoundError\u001b[0m: No module named 'numpy'"
     ]
    }
   ],
   "source": [
    "import numpy as np\n",
    "import matplotlib.pyplot as plt # Importar módulo especifico do matplotlib\n",
    "\n",
    "array_user = np.linspace(0,2,25)\n",
    "\n",
    "plt.subplot(2,1,1) # 1 - Plot com 2 linhas; 2 - Plot com 1 coluna; 1 - Plot da posição 1 a ser declarado\n",
    "\n",
    "plt.plot(array_user, array_user, 'r--')\n",
    "\n",
    "# Eixo X: array_user = [1 2 3 4 5 6...]\n",
    "# Eixo Y: array_user = [1 2 3 4 5 6...]\n",
    "\n",
    "plt.plot(array_user, array_user ** 2 * np.sin(array_user), 'b-s')\n",
    "plt.plot(array_user, array_user ** 3 * np.sin(array_user), 'g:^')\n",
    "\n",
    "plt.xlabel('Eixo X')\n",
    "plt.ylabel('Eixo Y')\n",
    "plt.legend(['linear','quadrado','cubo'])\n",
    "plt.title('Gráfico multiplas caracteísticas')\n",
    "\n",
    "plt.subplot(2,1,2) # 1- Plot com 2 linhas; 2 - plot com 1 coluna; 2- gráfico da posição 2 a ser declarado\n",
    "\n",
    "array_num = np.arange(0,20)\n",
    "\n",
    "arrayRnd = np.random.randint(0,100,20)\n",
    "arrayRnd2 = np.random.randint(0,100,20)\n",
    "\n",
    "plt.bar(array_num, arrayRnd)\n",
    "plt.bar(array_num, arrayRnd2, alpha=0.5)\n",
    "\n",
    "plt.xlabel('Eixo X')\n",
    "plt.ylabel('Eixo Y')\n",
    "plt.title('Gráfico de barras')\n",
    "plt.legend(['numeros aleatórios'])\n",
    "plt.tight_layout() # Agrupar gráficos de forma a não se sobreporem\n",
    "plt.show()"
   ]
  }
 ],
 "metadata": {
  "kernelspec": {
   "display_name": "Python 3",
   "language": "python",
   "name": "python3"
  },
  "language_info": {
   "codemirror_mode": {
    "name": "ipython",
    "version": 3
   },
   "file_extension": ".py",
   "mimetype": "text/x-python",
   "name": "python",
   "nbconvert_exporter": "python",
   "pygments_lexer": "ipython3",
   "version": "3.12.3"
  }
 },
 "nbformat": 4,
 "nbformat_minor": 2
}
