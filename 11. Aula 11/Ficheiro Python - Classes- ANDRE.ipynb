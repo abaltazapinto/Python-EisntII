{
 "cells": [
  {
   "cell_type": "markdown",
   "metadata": {},
   "source": [
    "# Classes e objetos \n",
    "## 1.1 Criar classes"
   ]
  },
  {
   "cell_type": "code",
   "execution_count": 2,
   "metadata": {},
   "outputs": [],
   "source": [
    "class Bebida: # Criacao da classe Bebida\n",
    "    pass\n",
    "\n",
    "\n",
    "cha = Bebida() # Criar o objecto cha\n",
    "cafe = Bebida() # Criar o objecto cafe\n",
    "sumo = Bebida() # Criar o objecto sumo\n"
   ]
  },
  {
   "cell_type": "markdown",
   "metadata": {},
   "source": [
    "## 1.2 Acrescentar atributo"
   ]
  },
  {
   "cell_type": "code",
   "execution_count": 3,
   "metadata": {},
   "outputs": [],
   "source": [
    "class Bebida: # Criacao da classe Bebida\n",
    "    preco = 0\n",
    "\n",
    "\n",
    "cha = Bebida() # Criar o objecto cha\n",
    "cafe = Bebida() # Criar o objecto cafe\n",
    "sumo = Bebida() # Criar o objecto sumo"
   ]
  },
  {
   "cell_type": "code",
   "execution_count": 5,
   "metadata": {},
   "outputs": [
    {
     "data": {
      "text/plain": [
       "0"
      ]
     },
     "execution_count": 5,
     "metadata": {},
     "output_type": "execute_result"
    }
   ],
   "source": [
    "cha.preco\n",
    "cafe.preco\n",
    "sumo.preco"
   ]
  },
  {
   "cell_type": "code",
   "execution_count": 6,
   "metadata": {},
   "outputs": [],
   "source": [
    "cha.preco = 1.00\n",
    "cafe.preco = 0.70\n",
    "sumo.preco = 1.10\n"
   ]
  },
  {
   "cell_type": "code",
   "execution_count": 7,
   "metadata": {},
   "outputs": [
    {
     "name": "stdout",
     "output_type": "stream",
     "text": [
      "Preco do cha:1.0\n",
      "Preco do cafe: 0.7\n",
      "Preco do sumo: 1.1\n"
     ]
    }
   ],
   "source": [
    "print(f'Preco do cha:{cha.preco}\\nPreco do cafe: {cafe.preco}\\nPreco do sumo: {sumo.preco}')"
   ]
  },
  {
   "cell_type": "markdown",
   "metadata": {},
   "source": [
    "# 1.3 Classes e objectos - Construtor"
   ]
  },
  {
   "cell_type": "code",
   "execution_count": 9,
   "metadata": {},
   "outputs": [],
   "source": [
    "class Bebida:\n",
    "    def __init__(self, preco, cor, stock):\n",
    "        self.preInit = preco\n",
    "        self.corInit = cor\n",
    "        self.stockInit = stock\n",
    "        \n",
    "    def definirStock(self, novoStock):\n",
    "        self.stockInit = novoStock\n",
    "        return self.stockInit\n",
    "    \n",
    "    def atualizarStock(self, opcao, valor):\n",
    "        output = ''\n",
    "        if opcao.upper() == 'S':\n",
    "            if self.stockInit < valor:\n",
    "                output = f'Nao existe quantidade suficiente em stock'\n",
    "            else:\n",
    "                self.stockInit = self.stockInit - valor\n",
    "                output = f'Valor de stock atualizado para {self.stockInit}'\n",
    "        elif opcao.upper() == 'E':\n",
    "            self.stockInit = self.stockInit + valor\n",
    "            output = f'Valor do stock atualizado para {self.stockInit}'\n",
    "        else:\n",
    "            print('Opcao inválida')\n",
    "        \n",
    "        return output\n",
    "    \n",
    "    \n",
    "    \n"
   ]
  },
  {
   "cell_type": "code",
   "execution_count": 10,
   "metadata": {},
   "outputs": [],
   "source": [
    "try:\n",
    "    a = float(input('Introduza o preco de uma cola'))\n",
    "    b = float(input('Introduza o preco de um batido'))\n",
    "    c = int(input('Introduza o stock da cola'))\n",
    "    d = int(input('Introduza o stock da bebida'))\n",
    "except:\n",
    "    print('Valores interuduzidos errados')\n",
    "else:\n",
    "    cola = Bebida(a, 'Negro', c)\n",
    "    batido = Bebida(b, 'Branco', d)\n",
    "    "
   ]
  },
  {
   "cell_type": "code",
   "execution_count": 11,
   "metadata": {},
   "outputs": [
    {
     "name": "stdout",
     "output_type": "stream",
     "text": [
      "Preco da cola: 1.5\n",
      " Cor da cola: Negro\n",
      " Stock da cola: 2\n",
      "Preco do batido: 2.5\n",
      " Cor da cola: Branco\n",
      "Stock do batido:3\n"
     ]
    }
   ],
   "source": [
    "print(f'Preco da cola: {cola.preInit}\\n Cor da cola: {cola.corInit}\\n Stock da cola: {cola.stockInit}')\n",
    "print(f'Preco do batido: {batido.preInit}\\n Cor da cola: {batido.corInit}\\nStock do batido:{batido.stockInit}')"
   ]
  },
  {
   "cell_type": "code",
   "execution_count": 12,
   "metadata": {},
   "outputs": [
    {
     "name": "stdout",
     "output_type": "stream",
     "text": [
      "Preco da cola: 1.5\n",
      " Cor da cola: Negro\n",
      " Stock da cola: 10\n",
      "Preco do batido: 2.5\n",
      " Cor da cola: Branco\n",
      "Stock do batido:20\n"
     ]
    }
   ],
   "source": [
    "try:\n",
    "    novoStockCola = cola.definirStock(int(input('Introduza o novo stock da cola')))\n",
    "    novoStockBatido = batido.definirStock(int(input('Introduza o novo stock da batido')))\n",
    "except:\n",
    "    print('Valores errados')\n",
    "else:\n",
    "    print(f'Preco da cola: {cola.preInit}\\n Cor da cola: {cola.corInit}\\n Stock da cola: {cola.stockInit}')\n",
    "    print(f'Preco do batido: {batido.preInit}\\n Cor da cola: {batido.corInit}\\nStock do batido:{batido.stockInit}')"
   ]
  },
  {
   "cell_type": "code",
   "execution_count": null,
   "metadata": {},
   "outputs": [],
   "source": []
  },
  {
   "cell_type": "markdown",
   "metadata": {},
   "source": [
    "## 1.4 Acrescentar Metodos na classe"
   ]
  },
  {
   "cell_type": "code",
   "execution_count": null,
   "metadata": {},
   "outputs": [],
   "source": []
  }
 ],
 "metadata": {
  "kernelspec": {
   "display_name": "base",
   "language": "python",
   "name": "python3"
  },
  "language_info": {
   "codemirror_mode": {
    "name": "ipython",
    "version": 3
   },
   "file_extension": ".py",
   "mimetype": "text/x-python",
   "name": "python",
   "nbconvert_exporter": "python",
   "pygments_lexer": "ipython3",
   "version": "3.12.7"
  }
 },
 "nbformat": 4,
 "nbformat_minor": 2
}
