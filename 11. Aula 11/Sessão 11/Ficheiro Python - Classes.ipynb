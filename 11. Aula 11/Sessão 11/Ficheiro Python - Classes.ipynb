{
 "cells": [
  {
   "cell_type": "markdown",
   "metadata": {},
   "source": [
    "# 1. Classes e objetos\n",
    "## 1.1. Criar classes"
   ]
  },
  {
   "cell_type": "code",
   "execution_count": 2,
   "metadata": {},
   "outputs": [],
   "source": [
    "class Bebida: # Criação da classe Bebida\n",
    "    pass\n",
    "\n",
    "cha = Bebida() # Criar o objeto cha\n",
    "cafe = Bebida() # Criar o objeto cafe\n",
    "sumo = Bebida() # Criar o objeto sumo"
   ]
  },
  {
   "cell_type": "markdown",
   "metadata": {},
   "source": [
    "## 1.2. Acrescentar atributos"
   ]
  },
  {
   "cell_type": "code",
   "execution_count": 3,
   "metadata": {},
   "outputs": [],
   "source": [
    "class Bebida: # Criação da classe Bebida\n",
    "    preco = 0\n",
    "\n",
    "cha = Bebida() # Criar o objeto cha\n",
    "cafe = Bebida() # Criar o objeto cafe\n",
    "sumo = Bebida() # Criar o objeto sumo"
   ]
  },
  {
   "cell_type": "code",
   "execution_count": 6,
   "metadata": {},
   "outputs": [
    {
     "data": {
      "text/plain": [
       "0"
      ]
     },
     "execution_count": 6,
     "metadata": {},
     "output_type": "execute_result"
    }
   ],
   "source": [
    "cha.preco\n",
    "cafe.preco\n",
    "sumo.preco"
   ]
  },
  {
   "cell_type": "code",
   "execution_count": 7,
   "metadata": {},
   "outputs": [],
   "source": [
    "cha.preco = 1.00\n",
    "cafe.preco = 0.70\n",
    "sumo.preco = 1.10"
   ]
  },
  {
   "cell_type": "code",
   "execution_count": 8,
   "metadata": {},
   "outputs": [
    {
     "name": "stdout",
     "output_type": "stream",
     "text": [
      "Preço do chá:1.0\n",
      "Preço do café:0.7\n",
      "Preço do sumo:1.1\n"
     ]
    }
   ],
   "source": [
    "print(f'Preço do chá:{cha.preco}\\nPreço do café:{cafe.preco}\\nPreço do sumo:{sumo.preco}')"
   ]
  },
  {
   "cell_type": "markdown",
   "metadata": {},
   "source": [
    "## 1.3. Classes e objetos - Construtor"
   ]
  },
  {
   "cell_type": "code",
   "execution_count": 9,
   "metadata": {},
   "outputs": [],
   "source": [
    "class Bebida:\n",
    "    def __init__(self, preco, cor):\n",
    "        self.precoInit = preco\n",
    "        self.corInit = cor\n",
    "\n",
    "try:\n",
    "    a = float(input('Introduza o preço de uma cola'))\n",
    "    b = float(input('Introduza o preço de um batido'))\n",
    "except:\n",
    "    print('Valores introduzidos errados')\n",
    "else:\n",
    "    cola = Bebida(a, 'Negro')\n",
    "    batido = Bebida(b, 'Branco')"
   ]
  },
  {
   "cell_type": "code",
   "execution_count": 10,
   "metadata": {},
   "outputs": [
    {
     "name": "stdout",
     "output_type": "stream",
     "text": [
      "Preço da cola: 1.5€\n",
      "Cor da cola: Negro\n",
      "Preço da cola: 2.0€\n",
      "Cor da cola: Branco\n"
     ]
    }
   ],
   "source": [
    "print(f'Preço da cola: {cola.precoInit}€\\nCor da cola: {cola.corInit}')\n",
    "print(f'Preço da cola: {batido.precoInit}€\\nCor da cola: {batido.corInit}')"
   ]
  },
  {
   "cell_type": "markdown",
   "metadata": {},
   "source": [
    "## 1.4. Acrescentar métodos na classe"
   ]
  },
  {
   "cell_type": "code",
   "execution_count": 19,
   "metadata": {},
   "outputs": [],
   "source": [
    "class Bebida:\n",
    "    def __init__(self, preco, cor, stock):\n",
    "        self.precoInit = preco\n",
    "        self.corInit = cor\n",
    "        self.stockInit = stock\n",
    "    \n",
    "    def definirStock(self, novoStock):\n",
    "        self.stockInit = novoStock\n",
    "        return self.stockInit\n",
    "    \n",
    "    def atualizarStock(self, opcao, valor):\n",
    "        output = ''\n",
    "        if opcao.upper() == 'S':\n",
    "            if self.stockInit < valor:\n",
    "                output = f'Não existe quantidade suficiente em stock'\n",
    "            else:\n",
    "                self.stockInit = self.stockInit - valor\n",
    "                output = f'Valor de stock atualizado para {self.stockInit}'\n",
    "        elif opcao.upper() == 'E':\n",
    "            self.stockInit = self.stockInit + valor\n",
    "            output = f'Valor de stock atualizado para {self.stockInit}'\n",
    "        else:\n",
    "            print('Opção inválida')\n",
    "        \n",
    "        return output\n"
   ]
  },
  {
   "cell_type": "code",
   "execution_count": 20,
   "metadata": {},
   "outputs": [],
   "source": [
    "try:\n",
    "    a = float(input('Introduza o preço de uma cola'))\n",
    "    b = float(input('Introduza o preço de um batido'))\n",
    "    c = int(input('Introduza o stock da cola'))\n",
    "    d = int(input('Introduza o stock da bebida'))\n",
    "except:\n",
    "    print('Valores introduzidos errados')\n",
    "else:\n",
    "    cola = Bebida(a, 'Negro',c)\n",
    "    batido = Bebida(b, 'Branco',d)"
   ]
  },
  {
   "cell_type": "code",
   "execution_count": 21,
   "metadata": {},
   "outputs": [
    {
     "name": "stdout",
     "output_type": "stream",
     "text": [
      "Preço da cola: 1.5€\n",
      "Cor da cola: Negro\n",
      "Stock da cola:1\n",
      "Preço da cola: 2.0€\n",
      "Cor da cola: Branco\n",
      "Stock do batido:2\n"
     ]
    }
   ],
   "source": [
    "print(f'Preço da cola: {cola.precoInit}€\\nCor da cola: {cola.corInit}\\nStock da cola:{cola.stockInit}')\n",
    "print(f'Preço da cola: {batido.precoInit}€\\nCor da cola: {batido.corInit}\\nStock do batido:{batido.stockInit}')"
   ]
  },
  {
   "cell_type": "code",
   "execution_count": 22,
   "metadata": {},
   "outputs": [
    {
     "name": "stdout",
     "output_type": "stream",
     "text": [
      "Preço da cola: 1.5€\n",
      "Cor da cola: Negro\n",
      "Stock da cola:10\n",
      "Preço da cola: 2.0€\n",
      "Cor da cola: Branco\n",
      "Stock do batido:20\n"
     ]
    }
   ],
   "source": [
    "try:\n",
    "    novoStockCola = cola.definirStock(int(input('Introduza o novo stock da cola')))\n",
    "    novoStockBatido = batido.definirStock(int(input('Introduza o novo stock do batido')))\n",
    "except:\n",
    "    print('Valores errados')\n",
    "else:\n",
    "    print(f'Preço da cola: {cola.precoInit}€\\nCor da cola: {cola.corInit}\\nStock da cola:{novoStockCola}')\n",
    "    print(f'Preço da cola: {batido.precoInit}€\\nCor da cola: {batido.corInit}\\nStock do batido:{novoStockBatido}')"
   ]
  },
  {
   "cell_type": "code",
   "execution_count": 27,
   "metadata": {},
   "outputs": [
    {
     "name": "stdout",
     "output_type": "stream",
     "text": [
      "Valor de stock atualizado para 50\n"
     ]
    }
   ],
   "source": [
    "try:\n",
    "    atualizarStockCola = cola.atualizarStock(input(f'Stock atual:{cola.stockInit}\\nIntroduza S para dar saída; E para dar entrada'),int(input('Introduza o valor')))\n",
    "except Exception as e:\n",
    "    print(str(e))\n",
    "    print('Dados inválidos')\n",
    "else:\n",
    "    print(atualizarStockCola)"
   ]
  },
  {
   "cell_type": "markdown",
   "metadata": {},
   "source": [
    "## 1.5. Classes e objetos: Associação por Herança"
   ]
  },
  {
   "cell_type": "code",
   "execution_count": 28,
   "metadata": {},
   "outputs": [],
   "source": [
    "# Classe Pai ou Superclasse\n",
    "\n",
    "class Pessoa:\n",
    "    def __init__(self, nome:str, numero:int, nif:int):\n",
    "        self.nomeInit = nome\n",
    "        self.numeroInit = numero\n",
    "        self.nifInit = nif\n",
    "\n",
    "    def obterDadosPessoa(self):\n",
    "        return self.nomeInit, self.numeroInit, self.nifInit\n",
    "    \n",
    "# Subclasse Aluno / Classe Filho Aluno\n",
    "\n",
    "class Aluno(Pessoa):\n",
    "    def __init__(self, nome, numero, nif, notaFinal, faltas):\n",
    "        super().__init__(nome, numero, nif)\n",
    "        self.notaFinalInit = notaFinal\n",
    "        self.faltasInit = faltas\n",
    "\n",
    "    def obterDadosAluno(self):\n",
    "        return self.notaFinalInit, self.faltasInit\n",
    "    \n",
    "# Subclasse Funcionário / Classe Filho Funcionario\n",
    "\n",
    "class Funcionario(Pessoa):\n",
    "    def __init__(self, nome, numero, nif, salario):\n",
    "        super().__init__(nome, numero, nif)\n",
    "        self.salarioInit = salario\n",
    "    \n",
    "    def obterSalario(self):\n",
    "        return self.salarioInit\n"
   ]
  },
  {
   "cell_type": "markdown",
   "metadata": {},
   "source": [
    "## Criar inputs para criação do objeto do tipo Aluno"
   ]
  },
  {
   "cell_type": "code",
   "execution_count": 29,
   "metadata": {},
   "outputs": [],
   "source": [
    "aluno = Aluno('João',123456,1584964351,17,1)"
   ]
  },
  {
   "cell_type": "code",
   "execution_count": 30,
   "metadata": {},
   "outputs": [
    {
     "data": {
      "text/plain": [
       "('João', 123456, 1584964351)"
      ]
     },
     "execution_count": 30,
     "metadata": {},
     "output_type": "execute_result"
    }
   ],
   "source": [
    "aluno.obterDadosPessoa()"
   ]
  },
  {
   "cell_type": "code",
   "execution_count": 32,
   "metadata": {},
   "outputs": [
    {
     "data": {
      "text/plain": [
       "(17, 1)"
      ]
     },
     "execution_count": 32,
     "metadata": {},
     "output_type": "execute_result"
    }
   ],
   "source": [
    "aluno.obterDadosAluno()"
   ]
  },
  {
   "cell_type": "code",
   "execution_count": 33,
   "metadata": {},
   "outputs": [],
   "source": [
    "alunos = []\n",
    "\n",
    "for i in range(int(input('Introduza o numero de alunos que pretende inserir'))):\n",
    "    alunos.append(Aluno(input(f'{i + 1} º Aluno: Introduza o nome'),\n",
    "                        int(input(f'{i + 1} º Aluno: Introduza o numero')),\n",
    "                        int(input(f'{i + 1} º Aluno: Introduza o NIF')),\n",
    "                        int(input(f'{i + 1} º Aluno: Introduza a nota final')),\n",
    "                        int(input(f'{i + 1} º Aluno: Introduza as faltas'))))"
   ]
  },
  {
   "cell_type": "code",
   "execution_count": 43,
   "metadata": {},
   "outputs": [
    {
     "name": "stdout",
     "output_type": "stream",
     "text": [
      "Dados pessoais dos alunos\n",
      "('João Charneca', 1, 123456)\n",
      "('André Pinto', 2, 456789)\n",
      "('Ana Lamares', 3, 147852)\n",
      "Dados pessoais e escolares dos alunos\n",
      "('João Charneca', 1, 123456, 118, 1)\n",
      "('André Pinto', 2, 456789, 17, 0)\n",
      "('Ana Lamares', 3, 147852, 17, 1)\n"
     ]
    }
   ],
   "source": [
    "print('Dados pessoais dos alunos')\n",
    "for i in alunos:\n",
    "    print(i.obterDadosPessoa())\n",
    "\n",
    "print('Dados pessoais e escolares dos alunos')\n",
    "for i in alunos:\n",
    "    print(i.obterDadosPessoa() + i.obterDadosAluno())"
   ]
  }
 ],
 "metadata": {
  "kernelspec": {
   "display_name": "UFCD_10793_3_N",
   "language": "python",
   "name": "python3"
  },
  "language_info": {
   "codemirror_mode": {
    "name": "ipython",
    "version": 3
   },
   "file_extension": ".py",
   "mimetype": "text/x-python",
   "name": "python",
   "nbconvert_exporter": "python",
   "pygments_lexer": "ipython3",
   "version": "3.12.7"
  }
 },
 "nbformat": 4,
 "nbformat_minor": 2
}
