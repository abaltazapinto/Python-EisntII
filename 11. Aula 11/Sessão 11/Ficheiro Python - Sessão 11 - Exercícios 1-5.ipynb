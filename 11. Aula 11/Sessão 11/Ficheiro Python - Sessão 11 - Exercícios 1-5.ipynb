{
 "cells": [
  {
   "cell_type": "markdown",
   "metadata": {},
   "source": [
    "## Exerícios sessão 11\n",
    "### Exercício 1"
   ]
  },
  {
   "cell_type": "code",
   "execution_count": 9,
   "metadata": {},
   "outputs": [
    {
     "name": "stdout",
     "output_type": "stream",
     "text": [
      "Resultados por Volvo:\n",
      "Tipo de pesquisa: Marca\n",
      "Numero de ocorrências: 2\n",
      "Cores encontradas: ['Vermelho', 'Branco']\n"
     ]
    }
   ],
   "source": [
    "# Criar os dicionários\n",
    "\n",
    "marcas = {'marca1' : 'Volvo', 'marca2' : 'Volkswagen', 'marca3': 'BMW', 'marca4': 'Opel', 'marca5' : 'Volvo'}\n",
    "\n",
    "cores = {'cor1' : 'Vermelho', 'cor2' : 'Azul', 'cor3': 'Cinza', 'cor4': 'Azul', 'cor5' : 'Branco'}\n",
    "\n",
    "# Verificação se o numero de elementos está correto\n",
    "if len(marcas) != len(cores):\n",
    "    print('O numero de marcas tem que corresponder ao numero de cores')\n",
    "else:\n",
    "    pesquisaInput = input('Introduza uma marca ou uma cor.').capitalize()\n",
    "# função pesquisa\n",
    "    def funcPesquisa(*args):\n",
    "        # variáveis locais de colocar resultados\n",
    "        resultMarcas = []\n",
    "        resultCores = []\n",
    "        ocorrecias = 0\n",
    "        tipoInserido = ''\n",
    "        # verificação se foi introduzido uma marca\n",
    "        # args[0] = ['Volvo'...]\n",
    "        # args[1] = ['Vermelho'...]\n",
    "        # args[2] = pesquisaInput\n",
    "        # print(args)\n",
    "        for i in range(len(args[0])):\n",
    "            if args[2] == args[0][i].capitalize():\n",
    "                resultMarcas.append(args[0][i])\n",
    "                resultCores.append(args[1][i])\n",
    "                #print(resultCores)\n",
    "                #print(resultMarcas)\n",
    "                ocorrecias = len(resultMarcas)\n",
    "                tipoInserido = 'Marca'\n",
    "        # Verificação se foi introduzido uma cor\n",
    "        if len(resultMarcas) == 0:\n",
    "            for j in range(len(args[1])):\n",
    "                if args[2] == args[1][j].capitalize():\n",
    "                    resultCores.append(args[1][j])\n",
    "                    resultMarcas.append(args[0][j])\n",
    "                    #print(resultCores)\n",
    "                    #print(resultMarcas)\n",
    "                    ocorrecias = len(resultCores)\n",
    "                    tipoInserido = 'Cor'\n",
    "        #retorno dos resultados\n",
    "        return resultMarcas, resultCores, ocorrecias, tipoInserido\n",
    "\n",
    "    results = funcPesquisa(list(marcas.values()),list(cores.values()),pesquisaInput)\n",
    "\n",
    "    if results[3] == 'Marca':\n",
    "        print('Resultados por ' + pesquisaInput + ':\\nTipo de pesquisa: ' + results[3] +\n",
    "        '\\nNumero de ocorrências: ' + str(results[2]) + '\\nCores encontradas: ' + str(results[1]))\n",
    "    elif results[3] == 'Cor':\n",
    "        print('Resultados por ' + pesquisaInput + ':\\nTipo de pesquisa: ' + results[3] +\n",
    "        '\\nNumero de ocorrências: ' + str(results[2]) + '\\nMarcas encontradas: ' + str(results[0]))\n",
    "    else:\n",
    "        print('Não foram encontrados resultados')\n",
    "    \n"
   ]
  },
  {
   "cell_type": "code",
   "execution_count": 13,
   "metadata": {},
   "outputs": [
    {
     "name": "stdout",
     "output_type": "stream",
     "text": [
      "Resultados por Azul:\n",
      "Tipo de pesquisa: Cor\n",
      "Numero de ocorrências: 2\n",
      "Marcas encontradas: ['Volkswagen', 'Opel']\n"
     ]
    }
   ],
   "source": [
    "dict2 = {'Volvo':['Vermelho','Branco'], 'Volkswagen':['Azul'], 'BMW':['Cinza'],'Opel':['Azul']}\n",
    "\n",
    "pesquisaInput = input('Introduza uma marca ou uma cor.').capitalize()\n",
    "# função pesquisa\n",
    "def funcPesquisa(*args):\n",
    "    # variáveis locais de colocar resultados\n",
    "    resultMarcas = []\n",
    "    resultCores = []\n",
    "    ocorrecias = 0\n",
    "    tipoInserido = ''\n",
    "    # verificação se foi introduzido uma marca\n",
    "    # args[0] = ['Volvo'...]\n",
    "    # args[1] = [['Vermelho', Branco'], ['Azul],['Cinza'],['Azul']]\n",
    "    # args[2] = pesquisaInput\n",
    "    # print(args)\n",
    "    for i in range(len(args[0])):\n",
    "        if args[2] == args[0][i]:\n",
    "            resultMarcas.append(args[0][i])\n",
    "            resultCores = args[1][i]\n",
    "            ocorrecias += 1\n",
    "            tipoInserido = 'Marca'     \n",
    "    # Verificação se foi introduzido uma cor\n",
    "    if ocorrecias == 0:\n",
    "        for j in range(len(args[1])):\n",
    "            if args[2] in args[1][j]:\n",
    "                resultCores.append(args[1][j])\n",
    "                resultMarcas.append(args[0][j])\n",
    "                ocorrecias = len(resultCores)\n",
    "                tipoInserido = 'Cor'\n",
    "            \n",
    "    #retorno dos resultados\n",
    "    return resultMarcas, resultCores, ocorrecias, tipoInserido\n",
    "\n",
    "results = funcPesquisa(list(dict2.keys()),list(dict2.values()),pesquisaInput)\n",
    "\n",
    "if results[3] == 'Marca':\n",
    "    print('Resultados por ' + pesquisaInput + ':\\nTipo de pesquisa: ' + results[3] +\n",
    "    '\\nNumero de ocorrências: ' + str(results[2]) + '\\nCores encontradas: ' + str(results[1]))\n",
    "elif results[3] == 'Cor':\n",
    "    print('Resultados por ' + pesquisaInput + ':\\nTipo de pesquisa: ' + results[3] +\n",
    "    '\\nNumero de ocorrências: ' + str(results[2]) + '\\nMarcas encontradas: ' + str(results[0]))\n",
    "else:\n",
    "    print('Não foram encontrados resultados')\n",
    "    "
   ]
  },
  {
   "cell_type": "code",
   "execution_count": 9,
   "metadata": {},
   "outputs": [
    {
     "name": "stdout",
     "output_type": "stream",
     "text": [
      "Volvo\n",
      "Volkswagen\n",
      "BMW\n",
      "Opel\n",
      "['Vermelho', 'Branco']\n",
      "Azul\n",
      "Cinza\n",
      "Azul\n"
     ]
    }
   ],
   "source": [
    "for i in dict2.keys():\n",
    "    print(i)\n",
    "\n",
    "for i in dict2.values():\n",
    "    print(i)\n"
   ]
  },
  {
   "cell_type": "markdown",
   "metadata": {},
   "source": [
    "### Exercício 2"
   ]
  },
  {
   "cell_type": "code",
   "execution_count": 16,
   "metadata": {},
   "outputs": [
    {
     "name": "stdout",
     "output_type": "stream",
     "text": [
      "Resultados por Azul:\n",
      "Tipo de pesquisa: Cor\n",
      "Numero de ocorrências: 2\n",
      "Marcas encontradas: ['Volkswagen', 'Opel']\n"
     ]
    }
   ],
   "source": [
    "# Criar os dicionários\n",
    "\n",
    "marcas = {'marca1' : 'Volvo', 'marca2' : 'Volkswagen', 'marca3': 'BMW', 'marca4': 'Opel', 'marca5' : 'Volvo'}\n",
    "\n",
    "cores = {'cor1' : 'Vermelho', 'cor2' : 'Azul', 'cor3': 'Cinza', 'cor4': 'Azul', 'cor5' : 'Branco'}\n",
    "\n",
    "# Verificação se o numero de elementos está correto\n",
    "if len(marcas) != len(cores):\n",
    "    print('O numero de marcas tem que corresponder ao numero de cores')\n",
    "else:\n",
    "    pesquisaInput = input('Introduza uma marca ou uma cor.').capitalize()\n",
    "# função pesquisa\n",
    "    def funcPesquisa(**kwargs):\n",
    "        # variáveis locais de colocar resultados\n",
    "        #print(type(kwargs))\n",
    "        resultMarcas = []\n",
    "        resultCores = []\n",
    "        ocorrecias = 0\n",
    "        tipoInserido = ''\n",
    "        # verificação se foi introduzido uma marca\n",
    "        for i in range(len(kwargs['listaMarcas'])):\n",
    "            if kwargs['pesquisaArg'].capitalize() == kwargs['listaMarcas'][i].capitalize():\n",
    "                resultMarcas.append(kwargs['listaMarcas'][i])\n",
    "                resultCores.append(kwargs['listaCores'][i])\n",
    "                #print(resultCores)\n",
    "                #print(resultMarcas)\n",
    "                ocorrecias = len(resultMarcas)\n",
    "                tipoInserido = 'Marca'\n",
    "        # Verificação se foi introduzido uma cor\n",
    "        if len(resultMarcas) == 0:\n",
    "            for j in range(len(kwargs['listaCores'])):\n",
    "                if kwargs['pesquisaArg'].capitalize()  == kwargs['listaCores'][j].capitalize():\n",
    "                    resultCores.append(kwargs['listaCores'][j])\n",
    "                    resultMarcas.append(kwargs['listaMarcas'][j])\n",
    "                    #print(resultCores)\n",
    "                    #print(resultMarcas)\n",
    "                    ocorrecias = len(resultCores)\n",
    "                    tipoInserido = 'Cor'\n",
    "        #retorno dos resultados\n",
    "        return resultMarcas, resultCores, ocorrecias, tipoInserido\n",
    "\n",
    "    results = funcPesquisa(listaMarcas = list(marcas.values()),listaCores = list(cores.values()), pesquisaArg = pesquisaInput)\n",
    "\n",
    "    if results[3] == 'Marca':\n",
    "        print('Resultados por ' + results[0][0] + ':\\nTipo de pesquisa: ' + results[3] +\n",
    "        '\\nNumero de ocorrências: ' + str(results[2]) + '\\nCores encontradas: ' + str(results[1]))\n",
    "    elif results[3] == 'Cor':\n",
    "        print('Resultados por ' + results[1][0] + ':\\nTipo de pesquisa: ' + results[3] +\n",
    "        '\\nNumero de ocorrências: ' + str(results[2]) + '\\nMarcas encontradas: ' + str(results[0]))\n",
    "    else:\n",
    "        print('Não foram encontrados resultados')\n"
   ]
  },
  {
   "cell_type": "markdown",
   "metadata": {},
   "source": [
    "### Exercício 3"
   ]
  },
  {
   "cell_type": "code",
   "execution_count": 18,
   "metadata": {},
   "outputs": [
    {
     "name": "stdout",
     "output_type": "stream",
     "text": [
      "Resultado da operação: 27360.00\n"
     ]
    }
   ],
   "source": [
    "# Introduzir numeros e operadores\n",
    "# Usar o comando split() para separar os numeros e colocar numa lista\n",
    "numeros = input ('Introduza uma sequência de numeros, separador por virgulas.\\n'+\n",
    "'Pode introduzir numeros decimais, separado por ponto.').split(',')\n",
    "\n",
    "operador = input('Introduza um operador para realizar entre os numeros.')\n",
    "\n",
    "# Definir função com lambda para calcular\n",
    "# Usar eval para poder utilizar o operador como variavel\n",
    "def myCalc(operador):\n",
    "    return eval(\"lambda a, b: a\" + operador + \"b\")\n",
    "    # lambda 1,2 = 1 + 2\n",
    "    # lamda a,b = a + b\n",
    "#Verificação dos dados introduzidos\n",
    "try:\n",
    "    for i in range(len(numeros) - 1):\n",
    "        #Na primeira iteração, usar os dois primeiros indices da lista\n",
    "        if i == 0:\n",
    "            func =  myCalc(operador) # func = lambda a , b = a + b : Se o operador introduzido for +\n",
    "            result = func(float(numeros[i]), float(numeros[i+1]))\n",
    "        # Realizar a operação do valor atual com o seguinte\n",
    "        elif i < len(numeros):\n",
    "            result = func(float(result), float(numeros[i+1]))\n",
    "            # [1,2,3,4,5,6] - operação somar \n",
    "            # i = 0\n",
    "            # 1 + 2 + 3 + 4 + 5 + 6\n",
    "            # 3 + 3 + 4 + 5 + 6\n",
    "            # 6 + 4 + 5 + 6\n",
    "            # 10 + 5 + 6\n",
    "            # 15 + 6\n",
    "            # 21\n",
    "    print('Resultado da operação: %0.2f' % result)\n",
    "except:\n",
    "    print('Dados introduzidos incorretos.')\n",
    "\n"
   ]
  },
  {
   "cell_type": "code",
   "execution_count": 22,
   "metadata": {},
   "outputs": [
    {
     "name": "stdout",
     "output_type": "stream",
     "text": [
      "1\n"
     ]
    }
   ],
   "source": [
    "numeros = input ('Introduza uma sequência de numeros, separador por virgulas.\\n'+\n",
    "'Pode introduzir numeros decimais, separado por ponto.')\n",
    "\n",
    "operador = input('Introduza um operador para realizar entre os numeros.')\n",
    "try:\n",
    "    print(eval(numeros.replace(',',operador)))\n",
    "except:\n",
    "    print('Valores inválidos')"
   ]
  },
  {
   "cell_type": "markdown",
   "metadata": {},
   "source": [
    "### Exercício 4"
   ]
  },
  {
   "cell_type": "code",
   "execution_count": 5,
   "metadata": {},
   "outputs": [
    {
     "name": "stdout",
     "output_type": "stream",
     "text": [
      "| Numeros Pares |    Indices    |\n",
      "|       0       |       2       |\n",
      "|       98      |       4       |\n",
      "|       98      |       6       |\n",
      "|       48      |       7       |\n",
      "|       76      |       8       |\n",
      "|       58      |       10      |\n",
      "|       58      |       13      |\n",
      "|       42      |       15      |\n",
      "|       28      |       17      |\n",
      "|       20      |       19      |\n"
     ]
    }
   ],
   "source": [
    "import numpy as np\n",
    "\n",
    "numRand = np.random.randint(0,101,20)\n",
    "numPar = []\n",
    "numIndice = []\n",
    "print('| Numeros Pares |    Indices    |')\n",
    "for i in range(len(numRand)):\n",
    "    if (numRand[i] % 2 )== 0:\n",
    "        numPar.append(numRand[i])\n",
    "        numIndice.append(i)\n",
    "        print('|' + str(numRand[i]).center(15) + '|' + str(i).center(15) + '|')"
   ]
  },
  {
   "cell_type": "markdown",
   "metadata": {},
   "source": [
    "### Exercício 5"
   ]
  },
  {
   "cell_type": "code",
   "execution_count": 14,
   "metadata": {},
   "outputs": [
    {
     "data": {
      "image/png": "[encoded data removed]",
      "text/plain": [
       "<Figure size 640x480 with 1 Axes>"
      ]
     },
     "metadata": {},
     "output_type": "display_data"
    }
   ],
   "source": [
    "import numpy as np\n",
    "import matplotlib.pyplot as plt\n",
    "\n",
    "arr1 = np.random.randint(0,101,20)\n",
    "arr2 = np.random.randint(0,101,20)\n",
    "arr3 = np.random.randint(0,101,20)\n",
    "\n",
    "def funcArrInd(arr):\n",
    "    numPar = []\n",
    "    numIndice = []\n",
    "    for i in range(len(arr)):\n",
    "        if (arr[i] % 2 )== 0:\n",
    "            numPar.append(arr[i])\n",
    "            numIndice.append(i)\n",
    "    return numIndice, numPar\n",
    "\n",
    "resultArr1 = funcArrInd(arr1)\n",
    "resultArr2 = funcArrInd(arr2)\n",
    "resultArr3 = funcArrInd(arr3)\n",
    "\n",
    "\n",
    "plt.bar(resultArr1[0],resultArr1[1],label = 'Array aleatório 1')\n",
    "plt.bar(resultArr2[0],resultArr2[1],label = 'Array aleatório 2', alpha=0.5)\n",
    "plt.bar(resultArr3[0],resultArr3[1],label = 'Array aleatório 3', alpha=0.3)\n",
    "\n",
    "plt.xlabel('Eixo X - Indíces')\n",
    "plt.ylabel('Eixo Y - Numeros aleatórios')\n",
    "#plt.axis([0,20,0,200])\n",
    "plt.title('Gráfico arrays aleatórios')\n",
    "\n",
    "plt.legend()\n",
    "plt.show()"
   ]
  },
  {
   "cell_type": "code",
   "execution_count": 17,
   "metadata": {},
   "outputs": [
    {
     "data": {
      "image/png": "[encoded data removed]",
      "text/plain": [
       "<Figure size 640x480 with 3 Axes>"
      ]
     },
     "metadata": {},
     "output_type": "display_data"
    }
   ],
   "source": [
    "import numpy as np\n",
    "import matplotlib.pyplot as plt\n",
    "\n",
    "arr1 = np.random.randint(0,101,20)\n",
    "arr2 = np.random.randint(0,101,20)\n",
    "arr3 = np.random.randint(0,101,20)\n",
    "\n",
    "def funcArrInd(arr):\n",
    "    numPar = []\n",
    "    numIndice = []\n",
    "    for i in range(len(arr)):\n",
    "        if (arr[i] % 2 )== 0:\n",
    "            numPar.append(arr[i])\n",
    "            numIndice.append(i)\n",
    "    return numIndice, numPar\n",
    "\n",
    "resultArr1 = funcArrInd(arr1)\n",
    "resultArr2 = funcArrInd(arr2)\n",
    "resultArr3 = funcArrInd(arr3)\n",
    "\n",
    "plt.subplot(1,3,1)\n",
    "plt.bar(resultArr1[0],resultArr1[1],label = 'Array aleatório 1')\n",
    "plt.xlabel('Eixo X - Indíces')\n",
    "plt.ylabel('Eixo Y - Numeros aleatórios')\n",
    "#plt.axis([0,20,0,200])\n",
    "plt.title('Gráfico arrays 1')\n",
    "\n",
    "\n",
    "plt.subplot(1,3,2)\n",
    "plt.bar(resultArr2[0],resultArr2[1],label = 'Array aleatório 2')\n",
    "plt.xlabel('Eixo X - Indíces')\n",
    "plt.ylabel('Eixo Y - Numeros aleatórios')\n",
    "#plt.axis([0,20,0,200])\n",
    "plt.title('Gráfico arrays 2')\n",
    "\n",
    "\n",
    "plt.subplot(1,3,3)\n",
    "plt.scatter(resultArr3[0],resultArr3[1],label = 'Array aleatório 3')\n",
    "\n",
    "plt.xlabel('Eixo X - Indíces')\n",
    "plt.ylabel('Eixo Y - Numeros aleatórios')\n",
    "#plt.axis([0,20,0,200])\n",
    "plt.title('Gráfico arrays 3')\n",
    "\n",
    "plt.tight_layout()\n",
    "plt.show()"
   ]
  }
 ],
 "metadata": {
  "kernelspec": {
   "display_name": "UFCD_10793_3_N",
   "language": "python",
   "name": "python3"
  },
  "language_info": {
   "codemirror_mode": {
    "name": "ipython",
    "version": 3
   },
   "file_extension": ".py",
   "mimetype": "text/x-python",
   "name": "python",
   "nbconvert_exporter": "python",
   "pygments_lexer": "ipython3",
   "version": "3.12.7"
  },
  "orig_nbformat": 4
 },
 "nbformat": 4,
 "nbformat_minor": 2
}
