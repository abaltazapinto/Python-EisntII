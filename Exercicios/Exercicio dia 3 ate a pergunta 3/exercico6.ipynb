{
 "cells": [
  {
   "cell_type": "code",
   "execution_count": 8,
   "metadata": {},
   "outputs": [],
   "source": [
    "class Pessoa:\n",
    "    def __init__(self, primeiroNome:str, ultimoNome:str, idade:int, profissao: str):\n",
    "        self.primeiroNomeInit = primeiroNome\n",
    "        self.ultimoNomeInit = ultimoNome\n",
    "        self.idadeInit = idade\n",
    "        self.profissaoInit = profissao\n",
    "        \n",
    "    def obterDadosPessoa(self):\n",
    "        return self.primeiroNomeInit, self.ultimoNomeInit, self.idadeInit, self.profissaoInit"
   ]
  },
  {
   "cell_type": "code",
   "execution_count": 9,
   "metadata": {},
   "outputs": [],
   "source": [
    "pessoas = []\n",
    "\n",
    "for i in range(int(input('Introduza o numero de pessoas que pretende inserir'))):\n",
    "    pessoas.append(Pessoa(input(f'{i + 1}ª Pessoa: Introduza o seu primeiro Nome:'),\n",
    "                         str(input(f'{i + 1}ª Pessoa: Introduza o seu ultimo Nome:')),\n",
    "                         int(input(f'{i +1}ª Pessoa: Introduza a sua idade:')),\n",
    "                         str(input(f'{i+1}º Pessoa: Introduza a sua profissão:'))\n",
    "                         \n",
    "                         ))"
   ]
  },
  {
   "cell_type": "code",
   "execution_count": 10,
   "metadata": {},
   "outputs": [
    {
     "name": "stdout",
     "output_type": "stream",
     "text": [
      "Dados pessoais das pessoas\n",
      "('Andre', 'Pinto', 32, 'Engenheiro de software')\n",
      "('Raquel', 'Pinto', 34, 'Engenheira de materiais')\n"
     ]
    }
   ],
   "source": [
    "print('Dados pessoais das pessoas')\n",
    "for i in pessoas:\n",
    "    print(i.obterDadosPessoa())"
   ]
  }
 ],
 "metadata": {
  "kernelspec": {
   "display_name": "base",
   "language": "python",
   "name": "python3"
  },
  "language_info": {
   "codemirror_mode": {
    "name": "ipython",
    "version": 3
   },
   "file_extension": ".py",
   "mimetype": "text/x-python",
   "name": "python",
   "nbconvert_exporter": "python",
   "pygments_lexer": "ipython3",
   "version": "3.12.7"
  }
 },
 "nbformat": 4,
 "nbformat_minor": 2
}
