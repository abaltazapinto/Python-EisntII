{
 "cells": [
  {
   "cell_type": "markdown",
   "metadata": {},
   "source": [
    "Usando o método de funcoes de passagem de argumentos arbitrarios crie um pprograma em Python em que o utilizador:  \n",
    "            Introduza 5 marcas de carros e 5 cores correspondentes, criando dois\n",
    "        dicionários\n",
    "         De seguida, se o utilizador introduzir uma cor, o programa retorma a marca\n",
    "        do carro corrspondente . Ao introduzir uma marca de carro, o programa\n",
    "        retorna a cor correspondente.\n",
    "         Se existir cores ou marcas repetidas, o programa deverá apresentar todas as\n",
    "        ocorrências\n",
    "         Pode utilizar o numero de funções que desejar "
   ]
  },
  {
   "cell_type": "markdown",
   "metadata": {},
   "source": [
    "## Gemini help:\n",
    "\n",
    "    1. Define a data Structure\n",
    "        - a list to strore the car models\n",
    "        - inputs : A list to store the corresponding inputs for each car model.\n",
    "        - car_dict: And empty dictionary to store the key-value pairs\n",
    "    \n",
    "    2. Get User Input\n",
    "    - Prompt the user to enter the number of car models they want to input.\n",
    "    - Use a loop to:\n",
    "        - Get the car model form the user.\n",
    "        - Append the corresponding input to the car_models list.\n",
    "        - Append the input to the inputs list.\n",
    "\n",
    "    3. Create the dictionary\n",
    "    - Use a loop to iterate through the car_models and inputs list simultaneously.\n",
    "    - In each iteration:\n",
    "        - Assign the current car model as the key.\n",
    "        - Assign the corresponding input as the value.\n",
    "        - Add the key-value pair to the car_dict.\n",
    "    \n",
    "    4. Display the Dictionary\n",
    "    - print the created car_dict."
   ]
  },
  {
   "cell_type": "code",
   "execution_count": 6,
   "metadata": {},
   "outputs": [
    {
     "name": "stdout",
     "output_type": "stream",
     "text": [
      "{'Chevrolet': 'white', 'Nissan ': 'Orange', 'VW': 'red', 'Honda ': 'Gray', 'Mercedes': 'green'}\n"
     ]
    }
   ],
   "source": [
    "car_models = []\n",
    "car_colors = []\n",
    "car_dict = {}\n",
    "\n",
    "num_cars = int(input(\"Enter the number of car models: \"))\n",
    "\n",
    "for i in range(num_cars):\n",
    "    model = input(f\"Enter the number of car models {i+1}: \")\n",
    "    car_input_color = input(f\"Enter the color of the model for {model}:\")\n",
    "    car_models.append(model)\n",
    "    car_colors.append(car_input_color)\n",
    "\n",
    "for i in range(num_cars):\n",
    "    car_dict[car_models[i]] = car_colors[i]\n",
    "\n",
    "print (car_dict)"
   ]
  },
  {
   "cell_type": "markdown",
   "metadata": {},
   "source": []
  },
  {
   "cell_type": "markdown",
   "metadata": {},
   "source": [
    "# Pergunta 2 \n",
    "### Repita o programa de 2, utilizando \n",
    "    - Metodo de funcoes de passagem de argumentos arbitrarios por palavra-chave\n",
    "    - Utilizando variaveis globais e locais quando necessario"
   ]
  },
  {
   "cell_type": "code",
   "execution_count": 8,
   "metadata": {},
   "outputs": [
    {
     "name": "stdout",
     "output_type": "stream",
     "text": [
      "Carros adicionados:\n",
      "Modelo: Volvo, Cor: Castanho\n",
      "Modelo: VW, Cor: Laranja\n",
      "Modelo: Honda , Cor: Amarelo\n",
      "Modelo: Skooda, Cor: Verde\n",
      "Modelo: Nissan, Cor: Verde\n"
     ]
    }
   ],
   "source": [
    "car_dict = {}\n",
    "\n",
    "def add_car_info(**kwargs):\n",
    "    \"\"\"\n",
    "    _summary_ \n",
    "    Adiciona informacoes de carros a um dicionario global.\n",
    "    Utiliza argumentos arbitrários por uma palavra-chave (**kwargs).\n",
    "    \"\"\"\n",
    "    global car_dict \n",
    "    for model,color in kwargs.items():\n",
    "        car_dict[model] = color\n",
    "        \n",
    "\n",
    "def display_cars():\n",
    "    \"\"\"\n",
    "    Exbe todos os carros armazenados no dicionario\n",
    "    \"\"\"\n",
    "    global car_dict\n",
    "    print(\"Carros adicionados:\")\n",
    "    for model,color in car_dict.items():\n",
    "    \n",
    "        print(f\"Modelo: {model}, Cor: {color}\")\n",
    "\n",
    "def main():\n",
    "    \"\"\"\n",
    "    Funcao principal para interacao do usuário.\n",
    "    \"\"\"\n",
    "    num_cars = int(input(\"Digite o numero de modelos de carros: \"))\n",
    "    \n",
    "    for car in range(num_cars):\n",
    "        model = input(\"Digitalize o nome do modelo do carro: \")\n",
    "        color = input(f\"Digitalize a cor do modelo {model}: \")\n",
    "        add_car_info(**{model: color})\n",
    "    \n",
    "    display_cars()\n",
    "\n",
    "main()"
   ]
  },
  {
   "cell_type": "markdown",
   "metadata": {},
   "source": [
    "3. Usando uma funcao de qualquer método e a funcao lambda, efetue um calculo em que:\n",
    "    - No primeiro input o utilizador insere uma serie de numeros separados por virgulas\n",
    "    - No segundo input inserir o operador que pretende realizar em todos os numeros(soma, subtracao multiplicacao e divisao o programa retorna o resultado)"
   ]
  },
  {
   "cell_type": "code",
   "execution_count": null,
   "metadata": {},
   "outputs": [
    {
     "name": "stdout",
     "output_type": "stream",
     "text": [
      "o resultado da soma dos numeros [1.0, 2.0, 3.0, 4.0, 5.0] é: 15.0\n"
     ]
    }
   ],
   "source": [
    "def calcular():\n",
    "    numeros = input(\"Insira uma serie de numeros separados por virgulas: \")\n",
    "    \n",
    "    try:\n",
    "        numeros = list(map(float, numeros.split(',')))\n",
    "    except ValueError:\n",
    "        print(\"Erro: Certifique-se de inserir números separados por virgulas.\")\n",
    "        return\n",
    "    \n",
    "    operador = input(\"Insira o operador (soma, subtracão, multiplicação, divisão): \")\n",
    "    \n",
    "    operacoes = {\n",
    "        \"soma\": lambda x, y: x + y,\n",
    "        \"subtração\": lambda x, y: x - y,\n",
    "        \"multiplicação\": lambda x, y: x * y,\n",
    "        \"divisão\": lambda x, y: x / y if y != 0 else float('inf'),  \n",
    "    }\n",
    "\n",
    "    if operador not in operacoes:\n",
    "        print(\"operador invalido !! Escolha entre soma, subtração, multiplicação e divisão\")\n",
    "        return\n",
    "    \n",
    "    from functools import reduce\n",
    "    resultado = reduce(operacoes[operador], numeros)\n",
    "    \n",
    "    print(f\"o resultado da {operador} dos numeros {numeros} é: {resultado}\")\n",
    "    \n",
    "calcular()"
   ]
  }
 ],
 "metadata": {
  "kernelspec": {
   "display_name": "base",
   "language": "python",
   "name": "python3"
  },
  "language_info": {
   "codemirror_mode": {
    "name": "ipython",
    "version": 3
   },
   "file_extension": ".py",
   "mimetype": "text/x-python",
   "name": "python",
   "nbconvert_exporter": "python",
   "pygments_lexer": "ipython3",
   "version": "3.12.7"
  }
 },
 "nbformat": 4,
 "nbformat_minor": 2
}
