{
 "cells": [
  {
   "cell_type": "markdown",
   "metadata": {},
   "source": [
    "4. Utilizando a biblioteca NumPy, crie um array unidimensional de numeros aleatorios de 20 elementos, com numeros de 0 a 100. O programa retorna os numeros que sao pares e repectivos indices."
   ]
  },
  {
   "cell_type": "code",
   "execution_count": 6,
   "metadata": {},
   "outputs": [
    {
     "ename": "AttributeError",
     "evalue": "module 'numpy.random' has no attribute 'ranint'",
     "output_type": "error",
     "traceback": [
      "\u001b[0;31m---------------------------------------------------------------------------\u001b[0m",
      "\u001b[0;31mAttributeError\u001b[0m                            Traceback (most recent call last)",
      "Cell \u001b[0;32mIn[6], line 3\u001b[0m\n\u001b[1;32m      1\u001b[0m \u001b[38;5;28;01mimport\u001b[39;00m\u001b[38;5;250m \u001b[39m\u001b[38;5;21;01mnumpy\u001b[39;00m\u001b[38;5;250m \u001b[39m\u001b[38;5;28;01mas\u001b[39;00m\u001b[38;5;250m \u001b[39m\u001b[38;5;21;01mnp\u001b[39;00m\n\u001b[0;32m----> 3\u001b[0m array_aleatorio \u001b[38;5;241m=\u001b[39m \u001b[43mnp\u001b[49m\u001b[38;5;241;43m.\u001b[39;49m\u001b[43mrandom\u001b[49m\u001b[38;5;241;43m.\u001b[39;49m\u001b[43mranint\u001b[49m(\u001b[38;5;241m0\u001b[39m, \u001b[38;5;241m101\u001b[39m, \u001b[38;5;241m20\u001b[39m)\n\u001b[1;32m      5\u001b[0m pares_e_indices \u001b[38;5;241m=\u001b[39m [(i,num) \u001b[38;5;28;01mfor\u001b[39;00m i, num \u001b[38;5;129;01min\u001b[39;00m \u001b[38;5;28menumerate\u001b[39m(array_aleatorio) \u001b[38;5;28;01mif\u001b[39;00m num \u001b[38;5;241m%\u001b[39m \u001b[38;5;241m2\u001b[39m \u001b[38;5;241m==\u001b[39m \u001b[38;5;241m0\u001b[39m]\n\u001b[1;32m      7\u001b[0m \u001b[38;5;28mprint\u001b[39m (\u001b[38;5;124m\"\u001b[39m\u001b[38;5;124mArray aleatório\u001b[39m\u001b[38;5;124m\"\u001b[39m, array_aleatorio)\n",
      "\u001b[0;31mAttributeError\u001b[0m: module 'numpy.random' has no attribute 'ranint'"
     ]
    }
   ],
   "source": [
    "import numpy as np\n",
    "\n",
    "array_aleatorio = np.random.ranint(0, 101, 20)\n",
    "\n",
    "pares_e_indices = [(i,num) for i, num in enumerate(array_aleatorio) if num % 2 == 0]\n",
    "\n",
    "print (\"Array aleatório\", array_aleatorio)\n",
    "print(\"Pares e os seus indices:\", pares_e_indices)"
   ]
  },
  {
   "cell_type": "markdown",
   "metadata": {},
   "source": [
    "5. Realize novamente o exercicio 4 para 3 arrays unidimensionais aleatorios. Desenhe um grafico em que apresente os indices no eixo dos x, e os numeros pares no eixo do y. Not: Para dessenhar o grafico, faca num ficheiro python à parte e faca a importacao deste no ficheiro principal."
   ]
  }
 ],
 "metadata": {
  "kernelspec": {
   "display_name": "base",
   "language": "python",
   "name": "python3"
  },
  "language_info": {
   "codemirror_mode": {
    "name": "ipython",
    "version": 3
   },
   "file_extension": ".py",
   "mimetype": "text/x-python",
   "name": "python",
   "nbconvert_exporter": "python",
   "pygments_lexer": "ipython3",
   "version": "3.12.7"
  }
 },
 "nbformat": 4,
 "nbformat_minor": 2
}
