{
 "cells": [
  {
   "cell_type": "markdown",
   "metadata": {},
   "source": [
    "# 1. Ficheiros CSV\n",
    "## 1.1. Importar a biblioteca csv do Python"
   ]
  },
  {
   "cell_type": "code",
   "execution_count": 1,
   "metadata": {},
   "outputs": [],
   "source": [
    "import csv"
   ]
  },
  {
   "cell_type": "markdown",
   "metadata": {},
   "source": [
    "## 1.2. Ler o ficheiro CSV"
   ]
  },
  {
   "cell_type": "code",
   "execution_count": 35,
   "metadata": {},
   "outputs": [],
   "source": [
    "openCSVFile = open('courseid_1715_participants.csv')\n",
    "# Criar um leitor de ficheiro CSV\n",
    "\n",
    "csv_reader = csv.reader(openCSVFile)"
   ]
  },
  {
   "cell_type": "code",
   "execution_count": 36,
   "metadata": {},
   "outputs": [
    {
     "name": "stdout",
     "output_type": "stream",
     "text": [
      "['__class__', '__delattr__', '__dir__', '__doc__', '__eq__', '__format__', '__ge__', '__getattribute__', '__getstate__', '__gt__', '__hash__', '__init__', '__init_subclass__', '__iter__', '__le__', '__lt__', '__module__', '__ne__', '__new__', '__next__', '__reduce__', '__reduce_ex__', '__repr__', '__setattr__', '__sizeof__', '__str__', '__subclasshook__', 'dialect', 'line_num']\n"
     ]
    }
   ],
   "source": [
    "print(dir(csv_reader)) # visualizar as propriedades e funções disponiveis para um tipo de dado\n",
    "\n",
    "# Função csv.reader é um iterador\n",
    "# Usar o comando next() para começar a iteração, e iterar em cada uma das linhas do ficheiro csv"
   ]
  },
  {
   "cell_type": "code",
   "execution_count": 42,
   "metadata": {},
   "outputs": [
    {
     "name": "stdout",
     "output_type": "stream",
     "text": [
      "['Frederico Carlos', 'Campos de Carvalho', 'fredericocccarvalho@hotmail.com', '']\n"
     ]
    }
   ],
   "source": [
    "print(next(csv_reader)) # Aceder ao conteúdo da linha atual e aponta para a próxima"
   ]
  },
  {
   "cell_type": "code",
   "execution_count": 43,
   "metadata": {},
   "outputs": [],
   "source": [
    "openCSVFile.close()"
   ]
  },
  {
   "cell_type": "code",
   "execution_count": 47,
   "metadata": {},
   "outputs": [],
   "source": [
    "with open('courseid_1715_participants.csv') as openCSVFile:\n",
    "    csv_reader = csv.reader(openCSVFile) # Criar o iterador\n",
    "\n",
    "    header = next(csv_reader)\n",
    "\n",
    "    data = []\n",
    "\n",
    "    for row in csv_reader:\n",
    "        pnome = row[0]\n",
    "        unome = row[1]\n",
    "        email = row[2]\n",
    "        data.append([pnome,unome,email])"
   ]
  },
  {
   "cell_type": "code",
   "execution_count": 48,
   "metadata": {},
   "outputs": [
    {
     "name": "stdout",
     "output_type": "stream",
     "text": [
      "Jorman Jose\n",
      "Agreda Bracamonte\n",
      "agredajorman@gmail.com\n",
      "João\n",
      "Araújo\n",
      "joaoplaraujo@gmail.com\n",
      "André\n",
      "Baltazar Pinto\n",
      "andrebaltazarpinto@gmail.com\n",
      "Fernando António\n",
      "Brandão Batista\n",
      "nandobatista22@hotmail.com\n",
      "Frederico Carlos\n",
      "Campos de Carvalho\n",
      "fredericocccarvalho@hotmail.com\n",
      "Paulo\n",
      "Catarino\n",
      "projetos@lancaencanto.pt\n",
      "João Luís\n",
      "charneca.joao@gmail.com\n",
      "charneca.joao@gmail.com\n",
      "Keisly\n",
      "Coromoto Da Costa Peña\n",
      "keislydacosta@gmail.com\n",
      "Filipe Manuel\n",
      "da Silva Correia Peixoto\n",
      "filipemanuelpeixoto@gmail.com\n",
      "Ana Luísa\n",
      "da Silva Machado Lamares\n",
      "allamares@gmail.com\n",
      "Gabriela Roberto\n",
      "do Vale Alves\n",
      "gabrielarobertova@gmail.com\n",
      "Tiago Jos\n",
      "Ferreira Gabriel\n",
      "tjfgabriel83@gmail.com\n",
      "Mehdi\n",
      "Gharbi\n",
      "mehdi.gharbi.pt@gmail.com\n",
      "Filipe José\n",
      "Gonçalves Marinho\n",
      "lipe_marinho@hotmail.com\n",
      "Marco José\n",
      "Lemos Ferreira\n",
      "ferreiramarcojl@hotmail.com\n",
      "Florinda\n",
      "Marques Duarte\n",
      "florindamarquesd@gmail.com\n",
      "José Pedro\n",
      "Moreira Silva\n",
      "josepmsilva3@gmail.com\n",
      "Nuno Daniel\n",
      "Neto Garcez\n",
      "ndngarcez@hotmail.com\n",
      "Ana Sofia\n",
      "Nunes Pacheco\n",
      "anasnpacheco@hotmail.com\n",
      "Ana\n",
      "Pereira\n",
      "anacristina.a.pereira@gmail.com\n",
      "Ivo\n",
      "Pereira Gomes\n",
      "semog83@gmail.com\n",
      "Ricardo Filipe\n",
      "Ribeiro Pinheiro\n",
      "ricardo.frp.93@gmail.com\n",
      "Ângelo\n",
      "Sacras\n",
      "angelo.sacras@gmail.com\n",
      "João\n",
      "Santos\n",
      "joaosantostig@gmail.com\n"
     ]
    }
   ],
   "source": [
    "for row in data:\n",
    "    for column in row:\n",
    "        print(column)"
   ]
  },
  {
   "cell_type": "markdown",
   "metadata": {},
   "source": [
    "## 1.3. Filtrar alunos que dominio de email diferente de gmail"
   ]
  },
  {
   "cell_type": "code",
   "execution_count": 50,
   "metadata": {},
   "outputs": [],
   "source": [
    "data_filter = []\n",
    "\n",
    "for row in data:\n",
    "    if '@gmail.com' not in row[2]:\n",
    "        data_filter.append(row)"
   ]
  },
  {
   "cell_type": "markdown",
   "metadata": {},
   "source": [
    "## Filtrar alunos que dominio é diferente de hotmail"
   ]
  },
  {
   "cell_type": "code",
   "execution_count": 53,
   "metadata": {},
   "outputs": [],
   "source": [
    "data_filter_hotmail = []\n",
    "\n",
    "email_filter = '@hotmail.com'\n",
    "\n",
    "for row in data:\n",
    "    if row[2][row[2].index('@'):] != email_filter:\n",
    "        data_filter_hotmail.append(row)\n"
   ]
  },
  {
   "cell_type": "code",
   "execution_count": 54,
   "metadata": {},
   "outputs": [],
   "source": [
    "data_filter_hotmail_2 = []\n",
    "\n",
    "email_filter = '@hotmail.com'\n",
    "\n",
    "for row in data:\n",
    "    if row[2][-len(email_filter):] != email_filter:\n",
    "        data_filter_hotmail_2.append(row)"
   ]
  },
  {
   "cell_type": "markdown",
   "metadata": {},
   "source": [
    "## 1.4. Criar e escrever um novo ficheiro CSV"
   ]
  },
  {
   "cell_type": "code",
   "execution_count": 55,
   "metadata": {},
   "outputs": [
    {
     "data": {
      "text/plain": [
       "'Grupos'"
      ]
     },
     "execution_count": 55,
     "metadata": {},
     "output_type": "execute_result"
    }
   ],
   "source": [
    "header_filter = header.copy()\n",
    "\n",
    "header_filter.pop() # Elimina o ultimo elemento da lista"
   ]
  },
  {
   "cell_type": "code",
   "execution_count": 58,
   "metadata": {},
   "outputs": [],
   "source": [
    "with open('alunos_csv_filter_not_gmail.csv','w', newline='') as newCSVFile:\n",
    "    csv_writer = csv.writer(newCSVFile)\n",
    "\n",
    "    # csv.writer, como o csv.reader, é também um iterador\n",
    "\n",
    "    csv_writer.writerow(header_filter)\n",
    "    csv_writer.writerows(data_filter)\n"
   ]
  },
  {
   "cell_type": "code",
   "execution_count": 59,
   "metadata": {},
   "outputs": [],
   "source": [
    "with open('alunos_csv_filter_not_hotmail.csv','w', newline='') as newCSVFile:\n",
    "    csv_writer = csv.writer(newCSVFile)\n",
    "\n",
    "    # csv.writer, como o csv.reader, é também um iterador\n",
    "\n",
    "    csv_writer.writerow(header_filter)\n",
    "\n",
    "    for row in data_filter_hotmail:\n",
    "        \n",
    "        csv_writer.writerow(row)"
   ]
  },
  {
   "cell_type": "markdown",
   "metadata": {},
   "source": [
    "# 2. Bases de dados\n",
    "## 2.1. Criar base de dados e apontador"
   ]
  },
  {
   "cell_type": "code",
   "execution_count": 63,
   "metadata": {},
   "outputs": [],
   "source": [
    "import sqlite3 as db # usar comando para atribuir um nome à escolha para a biblioteca que se está a importar\n",
    "\n",
    "# Criar a base de dados: Criar uma ligação\n",
    "\n",
    "connection = db.connect('Alunos.db')\n",
    "\n"
   ]
  },
  {
   "cell_type": "code",
   "execution_count": 64,
   "metadata": {},
   "outputs": [],
   "source": [
    "# Criar um apontador, que permite executar comandos para a base de dados\n",
    "\n",
    "cursor = connection.cursor()"
   ]
  },
  {
   "cell_type": "markdown",
   "metadata": {},
   "source": [
    "## 2.2. Criar tabela"
   ]
  },
  {
   "cell_type": "code",
   "execution_count": 66,
   "metadata": {},
   "outputs": [
    {
     "ename": "OperationalError",
     "evalue": "table alunos already exists",
     "output_type": "error",
     "traceback": [
      "\u001b[1;31m---------------------------------------------------------------------------\u001b[0m",
      "\u001b[1;31mOperationalError\u001b[0m                          Traceback (most recent call last)",
      "Cell \u001b[1;32mIn[66], line 1\u001b[0m\n\u001b[1;32m----> 1\u001b[0m cursor\u001b[38;5;241m.\u001b[39mexecute(\u001b[38;5;124m\"\u001b[39m\u001b[38;5;124mCREATE TABLE alunos(pnome TEXT, unome TEXT, email TEXT)\u001b[39m\u001b[38;5;124m\"\u001b[39m)\n",
      "\u001b[1;31mOperationalError\u001b[0m: table alunos already exists"
     ]
    }
   ],
   "source": [
    "cursor.execute(\"CREATE TABLE alunos(pnome TEXT, unome TEXT, email TEXT)\")\n",
    "\n",
    "# Letra maiuscula são comandos sql. É indiferente utilizar maiusculo ou minusculo\n",
    "# Letras minusculas: nomes atribuidos pelo programador"
   ]
  },
  {
   "cell_type": "markdown",
   "metadata": {},
   "source": [
    "## 2.3. Inserir conteúdo na base de dados"
   ]
  },
  {
   "cell_type": "code",
   "execution_count": 68,
   "metadata": {},
   "outputs": [
    {
     "data": {
      "text/plain": [
       "<sqlite3.Cursor at 0x23b3060e240>"
      ]
     },
     "execution_count": 68,
     "metadata": {},
     "output_type": "execute_result"
    }
   ],
   "source": [
    "cursor.execute(\"INSERT INTO alunos VALUES('João','Araújo', 'joaoplaraujo@gmail.com')\")"
   ]
  },
  {
   "cell_type": "code",
   "execution_count": 69,
   "metadata": {},
   "outputs": [],
   "source": [
    "pnome = input('Introduza o primeiro nome').capitalize()\n",
    "unome = input('Introduza o ultimo nome').capitalize()\n",
    "email = input('Introduza o email').lower()\n",
    "\n",
    "try:\n",
    "    if len(pnome) > 0 and len(unome) > 0 and pnome.isalpha() and unome.isalpha and email.index('@') > 0 \\\n",
    "        and len(email[:email.index('@')]) > 0 and len(email[email.index('@'):]) > 1:\n",
    "        \n",
    "        cursor.execute(f\"INSERT INTO alunos VALUES('{pnome}','{unome}','{email}')\")\n",
    "except:\n",
    "    print('Dados inválidos')"
   ]
  },
  {
   "cell_type": "markdown",
   "metadata": {},
   "source": [
    "## 2.4. Guardar alterações na base de dados"
   ]
  },
  {
   "cell_type": "code",
   "execution_count": 70,
   "metadata": {},
   "outputs": [],
   "source": [
    "connection.commit()"
   ]
  },
  {
   "cell_type": "code",
   "execution_count": 71,
   "metadata": {},
   "outputs": [],
   "source": [
    "import csv\n",
    "\n",
    "with open('alunos_csv_filter_not_gmail.csv') as csv_file:\n",
    "\n",
    "    csv_reader = csv.reader(csv_file)\n",
    "\n",
    "    header = next(csv_file)\n",
    "\n",
    "    data = []\n",
    "\n",
    "    for row in csv_reader:\n",
    "        data.append(row)"
   ]
  },
  {
   "cell_type": "markdown",
   "metadata": {},
   "source": [
    "## Escrever conteúdo do ficheiro csv para base de dados"
   ]
  },
  {
   "cell_type": "code",
   "execution_count": 72,
   "metadata": {},
   "outputs": [],
   "source": [
    "for row in data:\n",
    "    cursor.execute(f\"INSERT INTO alunos VALUES('{row[0]}', '{row[1]}','{row[2]}')\")"
   ]
  },
  {
   "cell_type": "code",
   "execution_count": 73,
   "metadata": {},
   "outputs": [],
   "source": [
    "connection.commit()"
   ]
  },
  {
   "cell_type": "markdown",
   "metadata": {},
   "source": [
    "## 2.5. Consultar o numero de alterações realizadas na base de dados"
   ]
  },
  {
   "cell_type": "code",
   "execution_count": 75,
   "metadata": {},
   "outputs": [
    {
     "data": {
      "text/plain": [
       "9"
      ]
     },
     "execution_count": 75,
     "metadata": {},
     "output_type": "execute_result"
    }
   ],
   "source": [
    "connection.total_changes"
   ]
  },
  {
   "cell_type": "markdown",
   "metadata": {},
   "source": [
    "## 2.6. Comandos SELECT para consulta de base de dados"
   ]
  },
  {
   "cell_type": "code",
   "execution_count": 77,
   "metadata": {},
   "outputs": [],
   "source": [
    "read_db = cursor.execute('SELECT * FROM alunos').fetchall()"
   ]
  },
  {
   "cell_type": "markdown",
   "metadata": {},
   "source": [
    "## Transformar tuplo de read_db para lista"
   ]
  },
  {
   "cell_type": "code",
   "execution_count": 78,
   "metadata": {},
   "outputs": [],
   "source": [
    "read_db_backup = read_db.copy()\n",
    "\n",
    "for i in range(len(read_db_backup)):\n",
    "    read_db_backup[i] = list(read_db_backup[i])"
   ]
  },
  {
   "cell_type": "markdown",
   "metadata": {},
   "source": [
    "## Selecionar parte das colunas da tabela"
   ]
  },
  {
   "cell_type": "code",
   "execution_count": 79,
   "metadata": {},
   "outputs": [
    {
     "data": {
      "text/plain": [
       "[('Araújo', 'joaoplaraujo@gmail.com'),\n",
       " ('Gabriel', 'tiagogabriel@hotmail.com'),\n",
       " ('Brandão Batista', 'nandobatista22@hotmail.com'),\n",
       " ('Campos de Carvalho', 'fredericocccarvalho@hotmail.com'),\n",
       " ('Catarino', 'projetos@lancaencanto.pt'),\n",
       " ('Gonçalves Marinho', 'lipe_marinho@hotmail.com'),\n",
       " ('Lemos Ferreira', 'ferreiramarcojl@hotmail.com'),\n",
       " ('Neto Garcez', 'ndngarcez@hotmail.com'),\n",
       " ('Nunes Pacheco', 'anasnpacheco@hotmail.com')]"
      ]
     },
     "execution_count": 79,
     "metadata": {},
     "output_type": "execute_result"
    }
   ],
   "source": [
    "cursor.execute(\"SELECT unome,email FROM alunos\").fetchall()"
   ]
  },
  {
   "cell_type": "markdown",
   "metadata": {},
   "source": [
    "## 2.7. Comandos para base de dados por atribuição de variáveis\n",
    "### Pesquisa por email através de nome"
   ]
  },
  {
   "cell_type": "code",
   "execution_count": 94,
   "metadata": {},
   "outputs": [
    {
     "name": "stdout",
     "output_type": "stream",
     "text": [
      "[('Frederico Carlos', 'Campos de Carvalho', 'fredericocccarvalho@hotmail.com')]\n"
     ]
    }
   ],
   "source": [
    "procura_nome = input('Introduza o nome a pesquisar').capitalize()\n",
    "\n",
    "resultado = cursor.execute(f\"SELECT * FROM alunos WHERE pnome LIKE '%{procura_nome}%'\").fetchall()\n",
    "\n",
    "print(resultado)"
   ]
  },
  {
   "cell_type": "markdown",
   "metadata": {},
   "source": [
    "## 2.9. Remover registo"
   ]
  },
  {
   "cell_type": "code",
   "execution_count": 96,
   "metadata": {},
   "outputs": [
    {
     "data": {
      "text/plain": [
       "<sqlite3.Cursor at 0x23b3060e240>"
      ]
     },
     "execution_count": 96,
     "metadata": {},
     "output_type": "execute_result"
    }
   ],
   "source": [
    "del_email = input('Introduza o email da pessoa que pretende remover')\n",
    "\n",
    "cursor.execute(f\"DELETE FROM alunos WHERE email = '{del_email}'\")"
   ]
  },
  {
   "cell_type": "code",
   "execution_count": 97,
   "metadata": {},
   "outputs": [],
   "source": [
    "connection.commit()"
   ]
  },
  {
   "cell_type": "markdown",
   "metadata": {},
   "source": [
    "## 2.10. Exportar tabela de base de dados para outros tipos de ficheiro"
   ]
  },
  {
   "cell_type": "code",
   "execution_count": 1,
   "metadata": {},
   "outputs": [],
   "source": [
    "import sqlite3 as db\n",
    "\n",
    "import pandas as pd\n",
    "\n",
    "connection = db.connect('Alunos.db')"
   ]
  },
  {
   "cell_type": "code",
   "execution_count": 2,
   "metadata": {},
   "outputs": [],
   "source": [
    "dbdf = pd.read_sql('SELECT * FROM alunos',connection)\n",
    "\n",
    "connection.close()"
   ]
  },
  {
   "cell_type": "code",
   "execution_count": 4,
   "metadata": {},
   "outputs": [],
   "source": [
    "## Exportar para CSV\n",
    "\n",
    "dbdf.to_csv('alunos_db.csv',index=False)"
   ]
  },
  {
   "cell_type": "code",
   "execution_count": 6,
   "metadata": {},
   "outputs": [],
   "source": [
    "## Exportar para JSON\n",
    "\n",
    "dbdf.to_json('alunos_db.json',indent=1)"
   ]
  },
  {
   "cell_type": "markdown",
   "metadata": {},
   "source": [
    "## 2.11. Ler ficheiros CSV e JSON"
   ]
  },
  {
   "cell_type": "code",
   "execution_count": 7,
   "metadata": {},
   "outputs": [],
   "source": [
    "dbdf_csv = pd.read_csv('alunos_db.csv')"
   ]
  },
  {
   "cell_type": "code",
   "execution_count": 8,
   "metadata": {},
   "outputs": [],
   "source": [
    "dbdf_json = pd.read_json('alunos_db.json')"
   ]
  },
  {
   "cell_type": "code",
   "execution_count": 9,
   "metadata": {},
   "outputs": [],
   "source": [
    "## Escreve numa nova tabela da base de dados a variável dbdf_json\n",
    "\n",
    "connection = db.connect('Alunos.db')\n",
    "\n",
    "dbdf_json.to_sql('alunos2',connection,index=False)\n",
    "\n",
    "connection.close()"
   ]
  },
  {
   "cell_type": "markdown",
   "metadata": {},
   "source": [
    "## 2.12. Ler e exportar ficheiros xlsx"
   ]
  },
  {
   "cell_type": "code",
   "execution_count": 11,
   "metadata": {},
   "outputs": [],
   "source": [
    "import openpyxl\n",
    "# Biblioteca xlrd para ficheiros excel .xls\n",
    "dbdf.to_excel('alunos_db.xlsx',index=False)"
   ]
  },
  {
   "cell_type": "code",
   "execution_count": 15,
   "metadata": {},
   "outputs": [],
   "source": [
    "read_excel = pd.read_excel('alunos_db.xlsx')"
   ]
  },
  {
   "cell_type": "code",
   "execution_count": 14,
   "metadata": {},
   "outputs": [],
   "source": [
    "read_excel_alt = pd.read_excel('alunos_db.xlsx','Sheet2')"
   ]
  },
  {
   "cell_type": "code",
   "execution_count": 16,
   "metadata": {},
   "outputs": [],
   "source": [
    "read_excel_alt2 = pd.read_excel('alunos_db.xlsx',['Sheet1','Sheet2'])\n",
    "\n",
    "## Ler mais que uma folha do ficheiro excel, guarda em dicionário, sendo a palavra-chave o nome da folha e os valores em DataFrame"
   ]
  },
  {
   "cell_type": "markdown",
   "metadata": {},
   "source": [
    "# 3. Tratamento de ficheiros JSON"
   ]
  },
  {
   "cell_type": "code",
   "execution_count": 23,
   "metadata": {},
   "outputs": [
    {
     "name": "stdout",
     "output_type": "stream",
     "text": [
      "{'pnome': {'0': 'Tiago', '1': 'Fernando António', '2': 'Frederico Carlos', '3': 'Paulo', '4': 'Filipe José', '5': 'Marco José', '6': 'Nuno Daniel', '7': 'Ana Sofia'}, 'unome': {'0': 'Gabriel', '1': 'Brandão Batista', '2': 'Campos de Carvalho', '3': 'Catarino', '4': 'Gonçalves Marinho', '5': 'Lemos Ferreira', '6': 'Neto Garcez', '7': 'Nunes Pacheco'}, 'email': {'0': 'tiagogabriel@hotmail.com', '1': 'nandobatista22@hotmail.com', '2': 'fredericocccarvalho@hotmail.com', '3': 'projetos@lancaencanto.pt', '4': 'lipe_marinho@hotmail.com', '5': 'ferreiramarcojl@hotmail.com', '6': 'ndngarcez@hotmail.com', '7': 'anasnpacheco@hotmail.com'}}\n"
     ]
    }
   ],
   "source": [
    "import json\n",
    "\n",
    "with open('alunos_db.json') as json_file:\n",
    "    read_json = json.load(json_file)\n",
    "\n",
    "print(read_json)"
   ]
  },
  {
   "cell_type": "markdown",
   "metadata": {},
   "source": [
    "## 3.1. Converter dicionário para JSON"
   ]
  },
  {
   "cell_type": "code",
   "execution_count": 28,
   "metadata": {},
   "outputs": [],
   "source": [
    "json_alunos = json.dumps(read_json,indent=1) # ensure_ascii = False: a string do ficheiro JSON como os caracteres originais\n",
    "\n",
    "with open('aluno_json_conv.json','w') as file_json:\n",
    "    file_json.write(json_alunos)"
   ]
  }
 ],
 "metadata": {
  "kernelspec": {
   "display_name": "UFCD_10793_3_N",
   "language": "python",
   "name": "python3"
  },
  "language_info": {
   "codemirror_mode": {
    "name": "ipython",
    "version": 3
   },
   "file_extension": ".py",
   "mimetype": "text/x-python",
   "name": "python",
   "nbconvert_exporter": "python",
   "pygments_lexer": "ipython3",
   "version": "3.12.7"
  }
 },
 "nbformat": 4,
 "nbformat_minor": 2
}
