{
 "cells": [
  {
   "cell_type": "markdown",
   "metadata": {},
   "source": [
    "# Exercício 7"
   ]
  },
  {
   "cell_type": "code",
   "execution_count": 4,
   "metadata": {},
   "outputs": [
    {
     "name": "stdout",
     "output_type": "stream",
     "text": [
      "Introduziu um numero menor que 0 ou maior que 9.\n",
      "Numeros pares: [2, 4, 6, 2, 2] -  5 numero(s) introduzidos\n",
      "Numeros impares: [3, 5, 3, 3, 1] -  5 numero(s) introduzidos\n"
     ]
    }
   ],
   "source": [
    "lista_numeros = []\n",
    "pares = []\n",
    "impares = []\n",
    "num_ok = True\n",
    "for i in range(10):\n",
    "    while True:\n",
    "        try:\n",
    "            userIn = int(input(f'Introduza o {i + 1}º numero'))\n",
    "            if 0 <= userIn <= 9:\n",
    "                lista_numeros.append(userIn)\n",
    "                break\n",
    "            else:\n",
    "                print('Introduziu um numero menor que 0 ou maior que 9.')\n",
    "        except ValueError:\n",
    "            print('Não foi introduzido um numero')\n",
    "\n",
    "for i in range(len(lista_numeros)):\n",
    "    resto = lista_numeros[i] % 2\n",
    "    if resto == 0:\n",
    "        res = 'par'\n",
    "        pares.append(lista_numeros[i])\n",
    "    else:\n",
    "        res = 'impar'\n",
    "        impares.append(lista_numeros[i])\n",
    "print(f'Numeros pares: {pares} -  {len(pares)} numero(s) introduzidos\\n' + \n",
    "      f'Numeros impares: {impares} -  {len(impares)} numero(s) introduzidos')\n",
    "    \n",
    "\n"
   ]
  },
  {
   "cell_type": "markdown",
   "metadata": {},
   "source": [
    "# Exercício 13"
   ]
  },
  {
   "cell_type": "code",
   "execution_count": 7,
   "metadata": {},
   "outputs": [
    {
     "name": "stdout",
     "output_type": "stream",
     "text": [
      "Nomes não são válidos\n"
     ]
    }
   ],
   "source": [
    "def myFunc(primeiro_nome, ultimo_nome):\n",
    "    if p_nome.isalpha() == True and u_nome.isalpha() == True:\n",
    "        \n",
    "        status = print(f'O primeiro nome {primeiro_nome} tem {len(primeiro_nome)} caracteres e o ultimo nome {ultimo_nome} tem {len(ultimo_nome)} caracteres.')\n",
    "        return status\n",
    "    else:\n",
    "        status = print('Nomes não são válidos')\n",
    "        return status\n",
    "\n",
    "p_nome = input('Introduza o primeiro nome')\n",
    "u_nome = input('Indroduza o ultimo nome')\n",
    "\n",
    "resultado = myFunc(p_nome,u_nome)\n",
    "\n"
   ]
  }
 ],
 "metadata": {
  "kernelspec": {
   "display_name": "UFCD_10793_3_N",
   "language": "python",
   "name": "python3"
  },
  "language_info": {
   "codemirror_mode": {
    "name": "ipython",
    "version": 3
   },
   "file_extension": ".py",
   "mimetype": "text/x-python",
   "name": "python",
   "nbconvert_exporter": "python",
   "pygments_lexer": "ipython3",
   "version": "3.12.7"
  }
 },
 "nbformat": 4,
 "nbformat_minor": 2
}
