{
 "cells": [
  {
   "cell_type": "markdown",
   "metadata": {},
   "source": [
    "# 1. Funções\n",
    "## 1.1. Funções procedimentais (sem argumentos ou parâmetros de entrada)"
   ]
  },
  {
   "cell_type": "code",
   "execution_count": 7,
   "metadata": {},
   "outputs": [
    {
     "name": "stdout",
     "output_type": "stream",
     "text": [
      "5\n",
      "Sou um procedimento\n",
      "5\n"
     ]
    }
   ],
   "source": [
    "x = 5 # variáveis globais\n",
    "y = 6 # variáveis globais\n",
    "\n",
    "print(x)\n",
    "\n",
    "def myProcedure():\n",
    "    print('Sou um procedimento')\n",
    "    a = 1 # variáveis locais\n",
    "    x = 10 # variáveis locais\n",
    "\n",
    "myProcedure()\n",
    "print(x)\n"
   ]
  },
  {
   "cell_type": "code",
   "execution_count": 2,
   "metadata": {},
   "outputs": [
    {
     "name": "stdout",
     "output_type": "stream",
     "text": [
      "5\n",
      "Sou um procedimento\n",
      "10\n",
      "1\n"
     ]
    }
   ],
   "source": [
    "x = 5 # variáveis globais\n",
    "y = 6 # variáveis globais\n",
    "\n",
    "print(x)\n",
    "\n",
    "def myProcedure():\n",
    "    global x # Declaração global, para ligar x da função com x do programa principal\n",
    "    global a # Declaração de nova variável global\n",
    "    print('Sou um procedimento')\n",
    "    a = 1 # variáveis locais\n",
    "    x = 10 # variáveis locais\n",
    "myProcedure()\n",
    "print(x)\n",
    "print(a)\n"
   ]
  },
  {
   "cell_type": "markdown",
   "metadata": {},
   "source": [
    "## 1.2. Com argumentos ou parâmetros de entrada\n",
    "### 1.2.1. Posicional, sem retorno de valores"
   ]
  },
  {
   "cell_type": "code",
   "execution_count": 5,
   "metadata": {},
   "outputs": [
    {
     "name": "stdout",
     "output_type": "stream",
     "text": [
      "O nome da pessoa é 123 Araújo\n"
     ]
    }
   ],
   "source": [
    "## : str - colocação de tipo de dado para os parâmetros de entrada para apenas informação da função. não é obrigatório.\n",
    "def myFunction(primeiro_nome: str, ultimo_nome: str): # Argumentos posicionais\n",
    "    a = primeiro_nome\n",
    "    b = ultimo_nome\n",
    "\n",
    "    print(f'O nome da pessoa é {a} {b}')\n",
    "\n",
    "pnome, unome = input('Introduza o primeiro nome'), input('Introduza o ultimo nome')\n",
    "\n",
    "myFunction(pnome,unome)"
   ]
  },
  {
   "cell_type": "code",
   "execution_count": 6,
   "metadata": {},
   "outputs": [
    {
     "name": "stdout",
     "output_type": "stream",
     "text": [
      "O nome da pessoa é João Araújo\n"
     ]
    }
   ],
   "source": [
    "## : str - colocação de tipo de dado para os parâmetros de entrada para apenas informação da função. não é obrigatório.\n",
    "def myFunction(primeiro_nome: str, ultimo_nome: str): # Argumentos posicionais\n",
    "    a = primeiro_nome\n",
    "    b = ultimo_nome\n",
    "\n",
    "    print(f'O nome da pessoa é {a} {b}')\n",
    "\n",
    "myFunction(input('Introduza o primeiro nome'),input('Introduza o ultimo nome'))"
   ]
  },
  {
   "cell_type": "markdown",
   "metadata": {},
   "source": [
    "### 1.2.2. Posicional, com retorno de valores"
   ]
  },
  {
   "cell_type": "code",
   "execution_count": 8,
   "metadata": {},
   "outputs": [
    {
     "name": "stdout",
     "output_type": "stream",
     "text": [
      "Numero maior que 3\n"
     ]
    }
   ],
   "source": [
    "userIn = input('Introduza um numero')\n",
    "## -> str: Informação do tipo de dados que a função devolve. Opcional\n",
    "def dataFunction(numero: float) -> str:\n",
    "    try:\n",
    "        num_conv = float(numero)\n",
    "    except:\n",
    "        resultado = 'Valor Inválido'\n",
    "    else:\n",
    "        if num_conv > 3:\n",
    "            resultado = 'Numero maior que 3'\n",
    "        elif num_conv < 3:\n",
    "            resultado = 'Numero menor que 3'\n",
    "        else:\n",
    "            resultado = 'Numero igual 3'\n",
    "\n",
    "    return resultado\n",
    "\n",
    "res = dataFunction(userIn)\n",
    "print(res)"
   ]
  },
  {
   "cell_type": "code",
   "execution_count": 2,
   "metadata": {},
   "outputs": [
    {
     "name": "stdout",
     "output_type": "stream",
     "text": [
      "Valor do perímetro da circunferência: Valor do raio inválido\n"
     ]
    }
   ],
   "source": [
    "import teste_import_funcao\n",
    "\n",
    "perimetro = teste_import_funcao.calcPerimCirc(input('Introduza o valor do raio da circunferência'))\n",
    "\n",
    "print(f'Valor do perímetro da circunferência: {perimetro}')"
   ]
  },
  {
   "cell_type": "markdown",
   "metadata": {},
   "source": [
    "### 1.2.3. Retorno de valores com mais que um elemento"
   ]
  },
  {
   "cell_type": "code",
   "execution_count": 3,
   "metadata": {},
   "outputs": [
    {
     "name": "stdout",
     "output_type": "stream",
     "text": [
      "('Numero maior que 3', 25.0)\n"
     ]
    }
   ],
   "source": [
    "userIn = input('Introduza um numero')\n",
    "## -> str: Informação do tipo de dados que a função devolve. Opcional\n",
    "def dataFunction(numero: float) -> tuple:\n",
    "    try:\n",
    "        num_conv = float(numero)\n",
    "    except:\n",
    "        resultado = 'Valor Inválido'\n",
    "    else:\n",
    "        if num_conv > 3:\n",
    "            resultado = 'Numero maior que 3'\n",
    "        elif num_conv < 3:\n",
    "            resultado = 'Numero menor que 3'\n",
    "        else:\n",
    "            resultado = 'Numero igual 3'\n",
    "\n",
    "    return resultado, num_conv\n",
    "\n",
    "res = dataFunction(userIn) # Retorno de função com mais que um valor sempre em tipo de dado tuple\n",
    "print(res)"
   ]
  },
  {
   "cell_type": "markdown",
   "metadata": {},
   "source": [
    "### 1.2.4. Argumentos posicionais não obrigatórios"
   ]
  },
  {
   "cell_type": "code",
   "execution_count": null,
   "metadata": {},
   "outputs": [
    {
     "name": "stdout",
     "output_type": "stream",
     "text": [
      "('Numero maior que 3', 25.0, 0)\n"
     ]
    }
   ],
   "source": [
    "userIn1 = input('Introduza o primeiro numero')\n",
    "userIn2 = input('Introduza o segundo numero')\n",
    "## -> str: Informação do tipo de dados que a função devolve. Opcional\n",
    "def dataFunction(numero1: float, numero2 :float = 0) -> tuple: # Primeiramente deve-se declarar os argumentos obrigatórios. Depois os não obrigatórios\n",
    "    try:\n",
    "        num_conv = float(numero1)\n",
    "    except:\n",
    "        resultado = 'Valor Inválido'\n",
    "    else:\n",
    "        if num_conv > 3:\n",
    "            resultado = 'Numero maior que 3'\n",
    "        elif num_conv < 3:\n",
    "            resultado = 'Numero menor que 3'\n",
    "        else:\n",
    "            resultado = 'Numero igual 3'\n",
    "\n",
    "    return resultado, num_conv, numero2\n",
    "\n",
    "res = dataFunction(userIn1) # Retorno de função com mais que um valor sempre em tipo de dado tuple\n",
    "print(res)"
   ]
  },
  {
   "cell_type": "markdown",
   "metadata": {},
   "source": [
    "## 1.3. Argumentos arbitrários"
   ]
  },
  {
   "cell_type": "code",
   "execution_count": 6,
   "metadata": {},
   "outputs": [
    {
     "name": "stdout",
     "output_type": "stream",
     "text": [
      "4\n",
      "('João', 'Ricardo', True, 156136145.15616515)\n",
      "Argumento 0: João\n",
      "Argumento 1: Ricardo\n",
      "Argumento 2: True\n",
      "Argumento 3: 156136145.15616515\n"
     ]
    }
   ],
   "source": [
    "def myFuncArbArgs(*args):\n",
    "    print(len(args))\n",
    "    print(args)\n",
    "\n",
    "    for i in range(len(args)):\n",
    "        print(f'Argumento {i}: {args[i]}')\n",
    "\n",
    "listInputs = []\n",
    "\n",
    "for i in range(4):\n",
    "    listInputs.append(input(f'Introduza o {i+1}º elemento da lista'))\n",
    "\n",
    "myFuncArbArgs(listInputs[0], listInputs[2], True, 156136145.156165156)"
   ]
  },
  {
   "cell_type": "markdown",
   "metadata": {},
   "source": [
    "## 1.4. Argumentos por palavra-chave"
   ]
  },
  {
   "cell_type": "code",
   "execution_count": 1,
   "metadata": {},
   "outputs": [
    {
     "name": "stdout",
     "output_type": "stream",
     "text": [
      "O segundo argumento da função é: João\n",
      "O primeiro argumento da função é: Araújo\n"
     ]
    }
   ],
   "source": [
    "def myFuncKeyWord(ultimo_nome:str, primeiro_nome:str) -> str:\n",
    "    print(f'O segundo argumento da função é: {primeiro_nome}')\n",
    "    print(f'O primeiro argumento da função é: {ultimo_nome}')\n",
    "\n",
    "    return f'{primeiro_nome} {ultimo_nome}'\n",
    "\n",
    "in1, in2 = input('Introduza o primeiro nome'), input('Introduza o ultimo nome')\n",
    "\n",
    "nome = myFuncKeyWord(primeiro_nome = in1, ultimo_nome = in2)"
   ]
  },
  {
   "cell_type": "markdown",
   "metadata": {},
   "source": [
    "## 1.5. Argumentos arbitrários por palavra-chave"
   ]
  },
  {
   "cell_type": "code",
   "execution_count": null,
   "metadata": {},
   "outputs": [
    {
     "name": "stdout",
     "output_type": "stream",
     "text": [
      "{'primeiro_nome': 'João', 'ultimo_nome': 'Araújo'}\n",
      "Foram colocados 2 elementos na função\n",
      "1º elemento tem 4 caracteres, com a palavra chhave de primeiro_nome\n",
      "2º elemento tem 6 caracteres, com a palavra chhave de ultimo_nome\n"
     ]
    }
   ],
   "source": [
    "def myFuncArbKeyWord(**kwargs):\n",
    "    print(kwargs)\n",
    "\n",
    "    listLenValores = []\n",
    "    listKeys = []\n",
    "\n",
    "    for i in kwargs.values():\n",
    "        listLenValores.append(len(i))\n",
    "    \n",
    "    for j in kwargs.keys():\n",
    "        listKeys.append(j)\n",
    "\n",
    "    return listLenValores, listKeys\n",
    "\n",
    "\n",
    "in1, in2 = input('Introduza o primeiro nome'), input('Introduza o ultimo nome')\n",
    "\n",
    "nome = myFuncArbKeyWord(primeiro_nome = in1, ultimo_nome = in2)\n",
    "\n",
    "print(f'Foram colocados {len(nome[0])} elementos na função')\n",
    "for i in range(len(nome[0])):\n",
    "    print(f'{i + 1}º elemento tem {nome[0][i]} caracteres, com a palavra chave de {nome[1][i]}')\n"
   ]
  },
  {
   "cell_type": "markdown",
   "metadata": {},
   "source": [
    "## Multiplos tipos de argumentos"
   ]
  },
  {
   "cell_type": "code",
   "execution_count": 4,
   "metadata": {},
   "outputs": [
    {
     "name": "stdout",
     "output_type": "stream",
     "text": [
      "Secção das finanças: Porto\n",
      "Tipo de documento: Declaração de não-divida\n",
      "Dados Pessoais:('Solteiro', 'Empregado', '10 anos de descontos')\n",
      "Primeiro Nome: João\n",
      "Ultimo Nome: Araújo\n",
      "Morada: Rua de Cima\n",
      "Código Postal: 4000\n",
      "\n"
     ]
    },
    {
     "data": {
      "text/plain": [
       "\"Secção das finanças: Porto\\nTipo de documento: Declaração de não-divida\\nDados Pessoais:('Solteiro', 'Empregado', '10 anos de descontos')\\nPrimeiro Nome: João\\nUltimo Nome: Araújo\\nMorada: Rua de Cima\\nCódigo Postal: 4000\\n\""
      ]
     },
     "execution_count": 4,
     "metadata": {},
     "output_type": "execute_result"
    }
   ],
   "source": [
    "def myFuncMulArgs(arg1:str, arg2:str, *args, **kwargs):\n",
    "    data = f'Secção das finanças: {arg1}\\n'+\\\n",
    "          f'Tipo de documento: {arg2}\\n' +\\\n",
    "          f'Dados Pessoais:{args}\\n'+\\\n",
    "          f'Primeiro Nome: {kwargs['pnome']}\\n' +\\\n",
    "          f'Ultimo Nome: {kwargs['unome']}\\n'+ \\\n",
    "          f'Morada: {kwargs['morada']}\\n'+ \\\n",
    "          f'Código Postal: {kwargs['postal']}\\n'\n",
    "    print(data)\n",
    "    return data\n",
    "\n",
    "myFuncMulArgs('Porto','Declaração de não-divida','Solteiro', 'Empregado', '10 anos de descontos',pnome='João',\n",
    "              unome = 'Araújo', morada = 'Rua de Cima', postal = 4000)"
   ]
  },
  {
   "cell_type": "code",
   "execution_count": 5,
   "metadata": {},
   "outputs": [],
   "source": [
    "listData = [['Porto','Declaração de não-divida','Solteiro', 'Empregado', '10 anos de descontos','João','Araújo','Rua de Cima',4000],\n",
    "            ['Porto','Declaração de não-divida','Casado', 'Empregado', '20 anos de descontos','Tiago','Gabriel','Rua de Baixo',4400],\n",
    "            ['Porto','Declaração de não-divida','Solteiro', 'Empregado', '30 anos de descontos','Fernando','Batista','Rua do Meio',4700]]"
   ]
  },
  {
   "cell_type": "code",
   "execution_count": 7,
   "metadata": {},
   "outputs": [
    {
     "name": "stdout",
     "output_type": "stream",
     "text": [
      "Secção das finanças: Porto\n",
      "Tipo de documento: Declaração de não-divida\n",
      "Dados Pessoais:('Solteiro', 'Empregado', '10 anos de descontos')\n",
      "Primeiro Nome: João\n",
      "Ultimo Nome: Araújo\n",
      "Morada: Rua de Cima\n",
      "Código Postal: 4000\n",
      "\n",
      "Secção das finanças: Porto\n",
      "Tipo de documento: Declaração de não-divida\n",
      "Dados Pessoais:('Casado', 'Empregado', '20 anos de descontos')\n",
      "Primeiro Nome: Tiago\n",
      "Ultimo Nome: Gabriel\n",
      "Morada: Rua de Baixo\n",
      "Código Postal: 4400\n",
      "\n",
      "Secção das finanças: Porto\n",
      "Tipo de documento: Declaração de não-divida\n",
      "Dados Pessoais:('Solteiro', 'Empregado', '30 anos de descontos')\n",
      "Primeiro Nome: Fernando\n",
      "Ultimo Nome: Batista\n",
      "Morada: Rua do Meio\n",
      "Código Postal: 4700\n",
      "\n"
     ]
    }
   ],
   "source": [
    "for i in listData:\n",
    "    data = myFuncMulArgs(i[0],i[1],i[2], i[3], i[4],pnome=i[5],\n",
    "              unome = i[6], morada = i[7], postal = i[8])\n",
    "    with open(f'{i[5]} {i[6]}.txt','w') as doc:\n",
    "        doc.writelines(data)"
   ]
  },
  {
   "cell_type": "markdown",
   "metadata": {},
   "source": [
    "# 2.Funções Anónimas\n",
    "## 2.1. Função *lambda*"
   ]
  },
  {
   "cell_type": "code",
   "execution_count": 10,
   "metadata": {},
   "outputs": [
    {
     "name": "stdout",
     "output_type": "stream",
     "text": [
      "25\n"
     ]
    }
   ],
   "source": [
    "x = lambda a,b,c: a ** 2 + b * c\n",
    "\n",
    "resultado = x(3,8,2)\n",
    "\n",
    "print(resultado)"
   ]
  },
  {
   "cell_type": "code",
   "execution_count": 12,
   "metadata": {},
   "outputs": [
    {
     "name": "stdout",
     "output_type": "stream",
     "text": [
      "Valor maior que 3\n"
     ]
    }
   ],
   "source": [
    "z = lambda a: 'Valor maior que 3' if a > 3 else 'Valor menor ou igual a 3'\n",
    "\n",
    "print(z(float(input('Introduza um numero'))))\n",
    "\n"
   ]
  },
  {
   "cell_type": "markdown",
   "metadata": {},
   "source": [
    "## 2.2. *lambda* intergrado dentro de funções"
   ]
  },
  {
   "cell_type": "code",
   "execution_count": 15,
   "metadata": {},
   "outputs": [
    {
     "name": "stdout",
     "output_type": "stream",
     "text": [
      "64\n"
     ]
    }
   ],
   "source": [
    "def myFunc(n:int):\n",
    "    return lambda a: a ** n\n",
    "\n",
    "squares = myFunc(2) # squares = lambda a: a ** 2\n",
    "\n",
    "print(squares(8))"
   ]
  },
  {
   "cell_type": "code",
   "execution_count": 16,
   "metadata": {},
   "outputs": [
    {
     "data": {
      "text/plain": [
       "360000"
      ]
     },
     "execution_count": 16,
     "metadata": {},
     "output_type": "execute_result"
    }
   ],
   "source": [
    "squares(600)"
   ]
  },
  {
   "cell_type": "code",
   "execution_count": 17,
   "metadata": {},
   "outputs": [],
   "source": [
    "exp32 = myFunc(32) # exp32 = lambda a: a ** 32"
   ]
  },
  {
   "cell_type": "code",
   "execution_count": 18,
   "metadata": {},
   "outputs": [
    {
     "data": {
      "text/plain": [
       "23283064365386962890625"
      ]
     },
     "execution_count": 18,
     "metadata": {},
     "output_type": "execute_result"
    }
   ],
   "source": [
    "exp32(5)"
   ]
  },
  {
   "cell_type": "code",
   "execution_count": 20,
   "metadata": {},
   "outputs": [
    {
     "data": {
      "text/plain": [
       "8992981883268145691214609117913419502644936390475776"
      ]
     },
     "execution_count": 20,
     "metadata": {},
     "output_type": "execute_result"
    }
   ],
   "source": [
    "def myFunc2(n:int,k:int,l:int):\n",
    "    var1 = k ** 2\n",
    "    var2 = l - 10\n",
    "    return lambda a: (a * var1 + var2) ** n\n",
    "\n",
    "equation = myFunc2(int(input('Introduza o expoente da equação')),4,6) # equation = lambda a: (a * 4 + 6) ** input utilizador\n",
    "\n",
    "equation(25)\n",
    "\n",
    "# Exemplo de função de recursão\n"
   ]
  }
 ],
 "metadata": {
  "kernelspec": {
   "display_name": "UFCD_10793_3_N",
   "language": "python",
   "name": "python3"
  },
  "language_info": {
   "codemirror_mode": {
    "name": "ipython",
    "version": 3
   },
   "file_extension": ".py",
   "mimetype": "text/x-python",
   "name": "python",
   "nbconvert_exporter": "python",
   "pygments_lexer": "ipython3",
   "version": "3.12.7"
  }
 },
 "nbformat": 4,
 "nbformat_minor": 2
}
