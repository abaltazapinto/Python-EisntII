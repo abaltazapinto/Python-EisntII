{
 "cells": [
  {
   "cell_type": "markdown",
   "metadata": {},
   "source": [
    "## Exerícios sessão 9\n",
    "### Exercício 1"
   ]
  },
  {
   "cell_type": "code",
   "execution_count": 4,
   "metadata": {},
   "outputs": [
    {
     "name": "stdout",
     "output_type": "stream",
     "text": [
      "Não foram encontrados resultados\n"
     ]
    }
   ],
   "source": [
    "# Criar os dicionários\n",
    "\n",
    "marcas = {'marca1' : 'Volvo', 'marca2' : 'Volkswagen', 'marca3': 'Bmw', 'marca4': 'Opel', 'marca5' : 'Volvo'}\n",
    "\n",
    "cores = {'cor1' : 'Vermelho', 'cor2' : 'Azul', 'cor3': 'Cinza', 'cor4': 'Azul', 'cor5' : 'Branco'}\n",
    "\n",
    "# Verificação se o numero de elementos está correto\n",
    "if len(marcas) != len(cores):\n",
    "    print('O numero de marcas tem que corresponder ao numero de cores')\n",
    "else:\n",
    "    pesquisaInput = input('Introduza uma marca ou uma cor.').capitalize()\n",
    "# função pesquisa\n",
    "    def funcPesquisa(*args):\n",
    "        # variáveis locais de colocar resultados\n",
    "        resultMarcas = []\n",
    "        resultCores = []\n",
    "        ocorrecias = 0\n",
    "        tipoInserido = ''\n",
    "        # verificação se foi introduzido uma marca\n",
    "        # args[0] = ['Volvo'...]\n",
    "        # args[1] = ['Vermelho'...]\n",
    "        # args[2] = pesquisaInput\n",
    "        # print(args)\n",
    "        for i in range(len(args[0])):\n",
    "            if args[2] == args[0][i].capitalize():\n",
    "                resultMarcas.append(args[0][i])\n",
    "                resultCores.append(args[1][i])\n",
    "                #print(resultCores)\n",
    "                #print(resultMarcas)\n",
    "                ocorrecias = len(resultMarcas)\n",
    "                tipoInserido = 'Marca'\n",
    "        # Verificação se foi introduzido uma cor\n",
    "        if len(resultMarcas) == 0:\n",
    "            for j in range(len(args[1])):\n",
    "                if args[2] == args[1][j].capitalize():\n",
    "                    resultCores.append(args[1][j])\n",
    "                    resultMarcas.append(args[0][j])\n",
    "                    #print(resultCores)\n",
    "                    #print(resultMarcas)\n",
    "                    ocorrecias = len(resultCores)\n",
    "                    tipoInserido = 'Cor'\n",
    "        #retorno dos resultados\n",
    "        return resultMarcas, resultCores, ocorrecias, tipoInserido\n",
    "\n",
    "    results = funcPesquisa(list(marcas.values()),list(cores.values()),pesquisaInput)\n",
    "\n",
    "    if results[3] == 'Marca':\n",
    "        print('Resultados por ' + pesquisaInput + ':\\nTipo de pesquisa: ' + results[3] +\n",
    "        '\\nNumero de ocorrências: ' + str(results[2]) + '\\nCores encontradas: ' + str(results[1]))\n",
    "    elif results[3] == 'Cor':\n",
    "        print('Resultados por ' + pesquisaInput + ':\\nTipo de pesquisa: ' + results[3] +\n",
    "        '\\nNumero de ocorrências: ' + str(results[2]) + '\\nMarcas encontradas: ' + str(results[0]))\n",
    "    else:\n",
    "        print('Não foram encontrados resultados')\n",
    "    \n"
   ]
  },
  {
   "cell_type": "code",
   "execution_count": 8,
   "metadata": {},
   "outputs": [
    {
     "name": "stdout",
     "output_type": "stream",
     "text": [
      "Resultados por Azul:\n",
      "Tipo de pesquisa: Cor\n",
      "Numero de ocorrências: 2\n",
      "Marcas encontradas: ['Volkswagen', 'Opel']\n"
     ]
    }
   ],
   "source": [
    "dict2 = {'Volvo':['Vermelho','Branco'], 'Volkswagen':['Azul'], 'Bmw':['Cinza'],'Opel':['Azul']}\n",
    "\n",
    "pesquisaInput = input('Introduza uma marca ou uma cor.').capitalize()\n",
    "# função pesquisa\n",
    "def funcPesquisa(*args):\n",
    "    # variáveis locais de colocar resultados\n",
    "    resultMarcas = []\n",
    "    resultCores = []\n",
    "    ocorrecias = 0\n",
    "    tipoInserido = ''\n",
    "    # verificação se foi introduzido uma marca\n",
    "    # args[0] = ['Volvo','Volkswagen','Bmw','Opel']\n",
    "    # args[1] = [['Vermelho', Branco'], ['Azul],['Cinza'],['Azul']]\n",
    "    # args[2] = pesquisaInput\n",
    "    # print(args)\n",
    "    for i in range(len(args[0])):\n",
    "        if args[2] == args[0][i]:\n",
    "            resultMarcas.append(args[0][i])\n",
    "            resultCores = args[1][i]\n",
    "            ocorrecias += 1\n",
    "            tipoInserido = 'Marca'\n",
    "            break    \n",
    "    # Verificação se foi introduzido uma cor\n",
    "    if ocorrecias == 0:\n",
    "        for j in range(len(args[1])):\n",
    "            if args[2] in args[1][j]:\n",
    "                resultCores.append(args[1][j])\n",
    "                resultMarcas.append(args[0][j])\n",
    "                ocorrecias = len(resultCores)\n",
    "                tipoInserido = 'Cor'\n",
    "            \n",
    "    #retorno dos resultados\n",
    "    return resultMarcas, resultCores, ocorrecias, tipoInserido\n",
    "\n",
    "results = funcPesquisa(list(dict2.keys()),list(dict2.values()),pesquisaInput)\n",
    "\n",
    "if results[3] == 'Marca':\n",
    "    print('Resultados por ' + pesquisaInput + ':\\nTipo de pesquisa: ' + results[3] +\n",
    "    '\\nNumero de ocorrências: ' + str(results[2]) + '\\nCores encontradas: ' + str(results[1]))\n",
    "elif results[3] == 'Cor':\n",
    "    print('Resultados por ' + pesquisaInput + ':\\nTipo de pesquisa: ' + results[3] +\n",
    "    '\\nNumero de ocorrências: ' + str(results[2]) + '\\nMarcas encontradas: ' + str(results[0]))\n",
    "else:\n",
    "    print('Não foram encontrados resultados')\n",
    "    "
   ]
  },
  {
   "cell_type": "code",
   "execution_count": 9,
   "metadata": {},
   "outputs": [
    {
     "name": "stdout",
     "output_type": "stream",
     "text": [
      "Volvo\n",
      "Volkswagen\n",
      "BMW\n",
      "Opel\n",
      "['Vermelho', 'Branco']\n",
      "Azul\n",
      "Cinza\n",
      "Azul\n"
     ]
    }
   ],
   "source": [
    "for i in dict2.keys():\n",
    "    print(i)\n",
    "\n",
    "for i in dict2.values():\n",
    "    print(i)\n"
   ]
  },
  {
   "cell_type": "markdown",
   "metadata": {},
   "source": [
    "### Exercício 2"
   ]
  },
  {
   "cell_type": "code",
   "execution_count": 12,
   "metadata": {},
   "outputs": [
    {
     "name": "stdout",
     "output_type": "stream",
     "text": [
      "Resultados por Azul:\n",
      "Tipo de pesquisa: Cor\n",
      "Numero de ocorrências: 2\n",
      "Marcas encontradas: ['Volkswagen', 'Opel']\n"
     ]
    }
   ],
   "source": [
    "# Criar os dicionários\n",
    "\n",
    "marcas = {'marca1' : 'Volvo', 'marca2' : 'Volkswagen', 'marca3': 'BMW', 'marca4': 'Opel', 'marca5' : 'Volvo'}\n",
    "\n",
    "cores = {'cor1' : 'Vermelho', 'cor2' : 'Azul', 'cor3': 'Cinza', 'cor4': 'Azul', 'cor5' : 'Branco'}\n",
    "\n",
    "# Verificação se o numero de elementos está correto\n",
    "if len(marcas) != len(cores):\n",
    "    print('O numero de marcas tem que corresponder ao numero de cores')\n",
    "else:\n",
    "    pesquisaInput = input('Introduza uma marca ou uma cor.').capitalize()\n",
    "# função pesquisa\n",
    "    def funcPesquisa(**kwargs):\n",
    "        # variáveis locais de colocar resultados\n",
    "        #print(type(kwargs))\n",
    "        resultMarcas = []\n",
    "        resultCores = []\n",
    "        ocorrecias = 0\n",
    "        tipoInserido = ''\n",
    "        # verificação se foi introduzido uma marca\n",
    "        # kwargs[listaMarcas] = ['Volvo',...]\n",
    "        # kwargs[listaCores] = ['Vermelho', ...]\n",
    "        # kwargs[pesquisaArgs] = pesquisaInput\n",
    "        for i in range(len(kwargs['listaMarcas'])):\n",
    "            if kwargs['pesquisaArg'].capitalize() == kwargs['listaMarcas'][i].capitalize():\n",
    "                resultMarcas.append(kwargs['listaMarcas'][i])\n",
    "                resultCores.append(kwargs['listaCores'][i])\n",
    "                #print(resultCores)\n",
    "                #print(resultMarcas)\n",
    "                ocorrecias = len(resultMarcas)\n",
    "                tipoInserido = 'Marca'\n",
    "        # Verificação se foi introduzido uma cor\n",
    "        if len(resultMarcas) == 0:\n",
    "            for j in range(len(kwargs['listaCores'])):\n",
    "                if kwargs['pesquisaArg'].capitalize()  == kwargs['listaCores'][j].capitalize():\n",
    "                    resultCores.append(kwargs['listaCores'][j])\n",
    "                    resultMarcas.append(kwargs['listaMarcas'][j])\n",
    "                    #print(resultCores)\n",
    "                    #print(resultMarcas)\n",
    "                    ocorrecias = len(resultCores)\n",
    "                    tipoInserido = 'Cor'\n",
    "        #retorno dos resultados\n",
    "        return resultMarcas, resultCores, ocorrecias, tipoInserido\n",
    "\n",
    "    results = funcPesquisa(listaMarcas = list(marcas.values()),listaCores = list(cores.values()), pesquisaArg = pesquisaInput)\n",
    "\n",
    "    if results[3] == 'Marca':\n",
    "        print('Resultados por ' + results[0][0] + ':\\nTipo de pesquisa: ' + results[3] +\n",
    "        '\\nNumero de ocorrências: ' + str(results[2]) + '\\nCores encontradas: ' + str(results[1]))\n",
    "    elif results[3] == 'Cor':\n",
    "        print('Resultados por ' + results[1][0] + ':\\nTipo de pesquisa: ' + results[3] +\n",
    "        '\\nNumero de ocorrências: ' + str(results[2]) + '\\nMarcas encontradas: ' + str(results[0]))\n",
    "    else:\n",
    "        print('Não foram encontrados resultados')\n"
   ]
  },
  {
   "cell_type": "markdown",
   "metadata": {},
   "source": [
    "### Exercício 3"
   ]
  },
  {
   "cell_type": "code",
   "execution_count": 14,
   "metadata": {},
   "outputs": [
    {
     "name": "stdout",
     "output_type": "stream",
     "text": [
      "Resultado da operação: 21.00\n"
     ]
    }
   ],
   "source": [
    "# Introduzir numeros e operadores\n",
    "# Usar o comando split() para separar os numeros e colocar numa lista\n",
    "numeros = input ('Introduza uma sequência de numeros, separador por virgulas.\\n'+\n",
    "'Pode introduzir numeros decimais, separado por ponto.').split(',')\n",
    "\n",
    "operador = input('Introduza um operador para realizar entre os numeros.')\n",
    "\n",
    "# Definir função com lambda para calcular\n",
    "# Usar eval para poder utilizar o operador como variavel\n",
    "def myCalc(operador):\n",
    "    return eval(\"lambda a, b: a\" + operador + \"b\")\n",
    "    # lambda 1,2 = 1 + 2\n",
    "    # lamda a,b = a + b\n",
    "#Verificação dos dados introduzidos\n",
    "try:\n",
    "    for i in range(len(numeros) - 1):\n",
    "        #Na primeira iteração, usar os dois primeiros indices da lista\n",
    "        if i == 0:\n",
    "            func =  myCalc(operador) # func = lambda a , b = a + b : Se o operador introduzido for +\n",
    "            result = func(float(numeros[i]), float(numeros[i+1]))\n",
    "        # Realizar a operação do valor atual com o seguinte\n",
    "        elif i < len(numeros):\n",
    "            result = func(float(result), float(numeros[i+1]))\n",
    "            # [1,2,3,4,5,6] - operação somar \n",
    "            # i = 0\n",
    "            # 1 + 2 + 3 + 4 + 5 + 6\n",
    "            # 3 + 3 + 4 + 5 + 6\n",
    "            # 6 + 4 + 5 + 6\n",
    "            # 10 + 5 + 6\n",
    "            # 15 + 6\n",
    "            # 21\n",
    "    print('Resultado da operação: %0.2f' % result)\n",
    "except:\n",
    "    print('Dados introduzidos incorretos.')\n",
    "\n"
   ]
  },
  {
   "cell_type": "code",
   "execution_count": null,
   "metadata": {},
   "outputs": [
    {
     "name": "stdout",
     "output_type": "stream",
     "text": [
      "21\n"
     ]
    }
   ],
   "source": [
    "numeros = input ('Introduza uma sequência de numeros, separador por virgulas.\\n'+\n",
    "'Pode introduzir numeros decimais, separado por ponto.')\n",
    "\n",
    "operador = input('Introduza um operador para realizar entre os numeros.')\n",
    "try:\n",
    "    print(eval(numeros.replace(',',operador))) # eval('1+2+3+4+5+6')\n",
    "except:\n",
    "    print('Valores inválidos')"
   ]
  }
 ],
 "metadata": {
  "kernelspec": {
   "display_name": "UFCD_10793_3_N",
   "language": "python",
   "name": "python3"
  },
  "language_info": {
   "codemirror_mode": {
    "name": "ipython",
    "version": 3
   },
   "file_extension": ".py",
   "mimetype": "text/x-python",
   "name": "python",
   "nbconvert_exporter": "python",
   "pygments_lexer": "ipython3",
   "version": "3.12.7"
  },
  "orig_nbformat": 4
 },
 "nbformat": 4,
 "nbformat_minor": 2
}
